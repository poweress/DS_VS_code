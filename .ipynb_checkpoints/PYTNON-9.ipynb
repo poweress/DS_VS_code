{
 "cells": [
  {
   "cell_type": "code",
   "execution_count": 4,
   "metadata": {},
   "outputs": [],
   "source": [
    "# Импортируем объект counter из модуля colections\n",
    "from collections import Counter"
   ]
  },
  {
   "cell_type": "code",
   "execution_count": 5,
   "metadata": {},
   "outputs": [],
   "source": [
    "c = Counter()\n",
    "# создаем пустой объект counter"
   ]
  },
  {
   "cell_type": "code",
   "execution_count": 6,
   "metadata": {},
   "outputs": [],
   "source": [
    "cars = ['red', 'blue', 'black', 'black', 'black', 'red', 'blue', 'red', 'white']"
   ]
  },
  {
   "cell_type": "code",
   "execution_count": 7,
   "metadata": {},
   "outputs": [],
   "source": [
    "dict_cars = Counter(cars)"
   ]
  },
  {
   "cell_type": "code",
   "execution_count": 8,
   "metadata": {},
   "outputs": [
    {
     "name": "stdout",
     "output_type": "stream",
     "text": [
      "Counter({'red': 3, 'black': 3, 'blue': 2, 'white': 1})\n"
     ]
    }
   ],
   "source": [
    "print(dict_cars)"
   ]
  },
  {
   "cell_type": "code",
   "execution_count": 10,
   "metadata": {},
   "outputs": [
    {
     "name": "stdout",
     "output_type": "stream",
     "text": [
      "3\n"
     ]
    }
   ],
   "source": [
    "print(dict_cars['black'])"
   ]
  },
  {
   "cell_type": "code",
   "execution_count": 12,
   "metadata": {},
   "outputs": [],
   "source": [
    "cars_mascow = ['black', 'red', 'white', 'black', 'green', 'yellow', 'red', 'yellow', 'green']\n",
    "cars_sbb = ['red', 'white', 'white', 'black', 'yellow', 'brown', 'brown', 'black']"
   ]
  },
  {
   "cell_type": "code",
   "execution_count": 13,
   "metadata": {},
   "outputs": [],
   "source": [
    "counter_moscow = Counter(cars_mascow)\n",
    "counter_sbb = Counter(cars_sbb)"
   ]
  },
  {
   "cell_type": "code",
   "execution_count": 14,
   "metadata": {},
   "outputs": [
    {
     "name": "stdout",
     "output_type": "stream",
     "text": [
      "Counter({'black': 2, 'red': 2, 'green': 2, 'yellow': 2, 'white': 1})\n",
      "Counter({'white': 2, 'black': 2, 'brown': 2, 'red': 1, 'yellow': 1})\n"
     ]
    }
   ],
   "source": [
    "print(counter_moscow)\n",
    "print(counter_sbb)"
   ]
  },
  {
   "cell_type": "code",
   "execution_count": 15,
   "metadata": {},
   "outputs": [
    {
     "name": "stdout",
     "output_type": "stream",
     "text": [
      "Counter({'black': 4, 'red': 3, 'white': 3, 'yellow': 3, 'green': 2, 'brown': 2})\n"
     ]
    }
   ],
   "source": [
    "print(counter_moscow + counter_sbb)"
   ]
  },
  {
   "cell_type": "code",
   "execution_count": 16,
   "metadata": {},
   "outputs": [
    {
     "name": "stdout",
     "output_type": "stream",
     "text": [
      "Counter({'green': 2, 'red': 1, 'yellow': 1, 'black': 0, 'white': -1, 'brown': -2})\n"
     ]
    }
   ],
   "source": [
    "counter_moscow.subtract(counter_sbb)\n",
    "print(counter_moscow)"
   ]
  },
  {
   "cell_type": "code",
   "execution_count": 17,
   "metadata": {},
   "outputs": [
    {
     "name": "stdout",
     "output_type": "stream",
     "text": [
      "Counter({'green': 2, 'red': 1, 'yellow': 1, 'black': 0, 'white': -1, 'brown': -2})\n"
     ]
    }
   ],
   "source": [
    "counter_sbb.subtract(counter_moscow)\n",
    "print(counter_moscow)"
   ]
  },
  {
   "cell_type": "code",
   "execution_count": 18,
   "metadata": {},
   "outputs": [
    {
     "name": "stdout",
     "output_type": "stream",
     "text": [
      "red green green yellow\n"
     ]
    }
   ],
   "source": [
    "print(*counter_moscow.elements())"
   ]
  },
  {
   "cell_type": "code",
   "execution_count": 19,
   "metadata": {},
   "outputs": [
    {
     "name": "stdout",
     "output_type": "stream",
     "text": [
      "white white white black black brown brown brown brown\n"
     ]
    }
   ],
   "source": [
    "print(*counter_sbb.elements())"
   ]
  },
  {
   "cell_type": "code",
   "execution_count": 20,
   "metadata": {},
   "outputs": [
    {
     "name": "stdout",
     "output_type": "stream",
     "text": [
      "a == x\n"
     ]
    }
   ],
   "source": [
    "a = 5\n",
    "x = 5.0\n",
    "if a == x: print('a == x')"
   ]
  },
  {
   "cell_type": "code",
   "execution_count": 21,
   "metadata": {},
   "outputs": [
    {
     "name": "stdout",
     "output_type": "stream",
     "text": [
      "['red', 'white', 'black', 'yellow', 'brown', 'green']\n"
     ]
    }
   ],
   "source": [
    "print(list(counter_sbb))"
   ]
  },
  {
   "cell_type": "code",
   "execution_count": 22,
   "metadata": {},
   "outputs": [
    {
     "name": "stdout",
     "output_type": "stream",
     "text": [
      "{'red': 0, 'white': 3, 'black': 2, 'yellow': 0, 'brown': 4, 'green': -2}\n"
     ]
    }
   ],
   "source": [
    "print(dict(counter_sbb))"
   ]
  },
  {
   "cell_type": "code",
   "execution_count": 64,
   "metadata": {},
   "outputs": [
    {
     "name": "stdout",
     "output_type": "stream",
     "text": [
      "[('brown', 4), ('white', 3), ('black', 2)]\n"
     ]
    }
   ],
   "source": [
    "print(counter_sbb.most_common(3))"
   ]
  },
  {
   "cell_type": "code",
   "execution_count": 28,
   "metadata": {},
   "outputs": [],
   "source": [
    "counter_moscow.clear()"
   ]
  },
  {
   "cell_type": "code",
   "execution_count": 29,
   "metadata": {},
   "outputs": [
    {
     "data": {
      "text/plain": [
       "Counter()"
      ]
     },
     "execution_count": 29,
     "metadata": {},
     "output_type": "execute_result"
    }
   ],
   "source": [
    "counter_moscow"
   ]
  },
  {
   "cell_type": "code",
   "execution_count": 33,
   "metadata": {},
   "outputs": [],
   "source": [
    "students = [\n",
    "    ('Ivanov', 1), \n",
    "    ('Smirnov', 4), \n",
    "    ('Petrov', 3), \n",
    "    ('Kuznecova', 1),\n",
    "    ('Nikitina', 2),\n",
    "    ('Markov', 3),\n",
    "    ('Pavlov', 2)\n",
    "        ]"
   ]
  },
  {
   "cell_type": "code",
   "execution_count": 34,
   "metadata": {},
   "outputs": [
    {
     "name": "stdout",
     "output_type": "stream",
     "text": [
      "{1: ['Ivanov', 'Kuznecova'], 4: ['Smirnov'], 3: ['Petrov', 'Markov'], 2: ['Nikitina', 'Pavlov']}\n"
     ]
    }
   ],
   "source": [
    "groups = dict()\n",
    "for student, group in students:\n",
    "    #Проверяем, есть ли уже эта группа в словаре\n",
    "    if group not in groups:\n",
    "        # Если группы еще нет в словаре, создаем для нее пустой список\n",
    "        groups[group] = list()\n",
    "    groups[group].append(student)\n",
    "print(groups)"
   ]
  },
  {
   "cell_type": "code",
   "execution_count": 35,
   "metadata": {},
   "outputs": [],
   "source": [
    "from collections import defaultdict"
   ]
  },
  {
   "cell_type": "code",
   "execution_count": 36,
   "metadata": {},
   "outputs": [],
   "source": [
    "groups = defaultdict(list)"
   ]
  },
  {
   "cell_type": "code",
   "execution_count": 37,
   "metadata": {},
   "outputs": [
    {
     "name": "stdout",
     "output_type": "stream",
     "text": [
      "defaultdict(<class 'list'>, {1: ['Ivanov', 'Kuznecova'], 4: ['Smirnov'], 3: ['Petrov', 'Markov'], 2: ['Nikitina', 'Pavlov']})\n"
     ]
    }
   ],
   "source": [
    "for student, group in students:\n",
    "    groups[group].append(student)\n",
    "print(groups)"
   ]
  },
  {
   "cell_type": "code",
   "execution_count": 41,
   "metadata": {},
   "outputs": [
    {
     "name": "stdout",
     "output_type": "stream",
     "text": [
      "[]\n"
     ]
    }
   ],
   "source": [
    "print(groups[2021])"
   ]
  },
  {
   "cell_type": "code",
   "execution_count": 42,
   "metadata": {},
   "outputs": [
    {
     "name": "stdout",
     "output_type": "stream",
     "text": [
      "defaultdict(<class 'list'>, {1: ['Ivanov', 'Kuznecova'], 4: ['Smirnov'], 3: ['Petrov', 'Markov'], 2: ['Nikitina', 'Pavlov'], 2021: []})\n"
     ]
    }
   ],
   "source": [
    "print(groups)"
   ]
  },
  {
   "cell_type": "code",
   "execution_count": 43,
   "metadata": {},
   "outputs": [
    {
     "name": "stdout",
     "output_type": "stream",
     "text": [
      "3.9.10 (tags/v3.9.10:f2f3f53, Jan 17 2022, 15:14:21) [MSC v.1929 64 bit (AMD64)]\n"
     ]
    }
   ],
   "source": [
    "import sys\n",
    "print(sys.version)"
   ]
  },
  {
   "cell_type": "code",
   "execution_count": 44,
   "metadata": {},
   "outputs": [],
   "source": [
    "from collections import deque\n",
    "dq = deque()"
   ]
  },
  {
   "cell_type": "code",
   "execution_count": 48,
   "metadata": {},
   "outputs": [],
   "source": [
    "client = deque()\n",
    "client.append('Ivaniv')\n",
    "client.append('Petrov')\n",
    "client.append('Smirnova')\n",
    "client.append('Tichonova')"
   ]
  },
  {
   "cell_type": "code",
   "execution_count": 49,
   "metadata": {},
   "outputs": [
    {
     "name": "stdout",
     "output_type": "stream",
     "text": [
      "deque(['Ivaniv', 'Petrov', 'Smirnova', 'Tichonova'])\n"
     ]
    }
   ],
   "source": [
    "print(client)"
   ]
  },
  {
   "cell_type": "code",
   "execution_count": 50,
   "metadata": {},
   "outputs": [
    {
     "name": "stdout",
     "output_type": "stream",
     "text": [
      "Smirnova\n"
     ]
    }
   ],
   "source": [
    "print(client[2])"
   ]
  },
  {
   "cell_type": "code",
   "execution_count": 61,
   "metadata": {},
   "outputs": [
    {
     "name": "stdout",
     "output_type": "stream",
     "text": [
      "OrderedDict([('Ivan', 19), ('Maria', 20), ('Andrey', 23), ('Mark', 25)])\n"
     ]
    }
   ],
   "source": [
    "from collections import OrderedDict\n",
    "\n",
    "data = [('Ivan', 19), ('Mark', 25), ('Andrey', 23), ('Maria', 20)]\n",
    "order_client_ages = OrderedDict(sorted(data, key=lambda x: x[1]))\n",
    "print(order_client_ages)"
   ]
  },
  {
   "cell_type": "code",
   "execution_count": 62,
   "metadata": {},
   "outputs": [
    {
     "name": "stdout",
     "output_type": "stream",
     "text": [
      "OrderedDict([('Ivan', 19), ('Maria', 20), ('Andrey', 23), ('Mark', 25), ('Nika', 27)])\n"
     ]
    }
   ],
   "source": [
    "order_client_ages['Nika'] = 27\n",
    "print(order_client_ages)"
   ]
  },
  {
   "cell_type": "code",
   "execution_count": null,
   "metadata": {},
   "outputs": [],
   "source": []
  }
 ],
 "metadata": {
  "interpreter": {
   "hash": "3340a432eeb4f36e9c7c1a04148b549a77cff42ab1cce52ce0105624a78b3fec"
  },
  "kernelspec": {
   "display_name": "Python 3.9.10 64-bit",
   "language": "python",
   "name": "python3"
  },
  "language_info": {
   "codemirror_mode": {
    "name": "ipython",
    "version": 3
   },
   "file_extension": ".py",
   "mimetype": "text/x-python",
   "name": "python",
   "nbconvert_exporter": "python",
   "pygments_lexer": "ipython3",
   "version": "3.9.10"
  }
 },
 "nbformat": 4,
 "nbformat_minor": 4
}
