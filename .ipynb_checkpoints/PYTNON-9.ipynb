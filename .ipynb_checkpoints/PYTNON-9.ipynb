{
 "cells": [
  {
   "cell_type": "code",
   "execution_count": 81,
   "metadata": {},
   "outputs": [],
   "source": [
    "# Импортируем объект counter из модуля colections\n",
    "from collections import Counter"
   ]
  },
  {
   "cell_type": "code",
   "execution_count": 82,
   "metadata": {},
   "outputs": [],
   "source": [
    "c = Counter()\n",
    "# создаем пустой объект counter"
   ]
  },
  {
   "cell_type": "code",
   "execution_count": 83,
   "metadata": {},
   "outputs": [],
   "source": [
    "cars = ['red', 'blue', 'black', 'black', 'black', 'red', 'blue', 'red', 'white']"
   ]
  },
  {
   "cell_type": "code",
   "execution_count": 84,
   "metadata": {},
   "outputs": [],
   "source": [
    "dict_cars = Counter(cars)"
   ]
  },
  {
   "cell_type": "code",
   "execution_count": 85,
   "metadata": {},
   "outputs": [
    {
     "name": "stdout",
     "output_type": "stream",
     "text": [
      "Counter({'red': 3, 'black': 3, 'blue': 2, 'white': 1})\n"
     ]
    }
   ],
   "source": [
    "print(dict_cars)"
   ]
  },
  {
   "cell_type": "code",
   "execution_count": 86,
   "metadata": {},
   "outputs": [
    {
     "name": "stdout",
     "output_type": "stream",
     "text": [
      "3\n"
     ]
    }
   ],
   "source": [
    "print(dict_cars['black'])"
   ]
  },
  {
   "cell_type": "code",
   "execution_count": 87,
   "metadata": {},
   "outputs": [],
   "source": [
    "cars_mascow = ['black', 'red', 'white', 'black', 'green', 'yellow', 'red', 'yellow', 'green']\n",
    "cars_sbb = ['red', 'white', 'white', 'black', 'yellow', 'brown', 'brown', 'black']"
   ]
  },
  {
   "cell_type": "code",
   "execution_count": 88,
   "metadata": {},
   "outputs": [],
   "source": [
    "counter_moscow = Counter(cars_mascow)\n",
    "counter_sbb = Counter(cars_sbb)"
   ]
  },
  {
   "cell_type": "code",
   "execution_count": 89,
   "metadata": {},
   "outputs": [
    {
     "name": "stdout",
     "output_type": "stream",
     "text": [
      "Counter({'black': 2, 'red': 2, 'green': 2, 'yellow': 2, 'white': 1})\n",
      "Counter({'white': 2, 'black': 2, 'brown': 2, 'red': 1, 'yellow': 1})\n"
     ]
    }
   ],
   "source": [
    "print(counter_moscow)\n",
    "print(counter_sbb)"
   ]
  },
  {
   "cell_type": "code",
   "execution_count": 90,
   "metadata": {},
   "outputs": [
    {
     "name": "stdout",
     "output_type": "stream",
     "text": [
      "Counter({'black': 4, 'red': 3, 'white': 3, 'yellow': 3, 'green': 2, 'brown': 2})\n"
     ]
    }
   ],
   "source": [
    "print(counter_moscow + counter_sbb)"
   ]
  },
  {
   "cell_type": "code",
   "execution_count": 91,
   "metadata": {},
   "outputs": [
    {
     "name": "stdout",
     "output_type": "stream",
     "text": [
      "Counter({'green': 2, 'red': 1, 'yellow': 1, 'black': 0, 'white': -1, 'brown': -2})\n"
     ]
    }
   ],
   "source": [
    "counter_moscow.subtract(counter_sbb)\n",
    "print(counter_moscow)"
   ]
  },
  {
   "cell_type": "code",
   "execution_count": 92,
   "metadata": {},
   "outputs": [
    {
     "name": "stdout",
     "output_type": "stream",
     "text": [
      "Counter({'green': 2, 'red': 1, 'yellow': 1, 'black': 0, 'white': -1, 'brown': -2})\n"
     ]
    }
   ],
   "source": [
    "counter_sbb.subtract(counter_moscow)\n",
    "print(counter_moscow)"
   ]
  },
  {
   "cell_type": "code",
   "execution_count": 93,
   "metadata": {},
   "outputs": [
    {
     "name": "stdout",
     "output_type": "stream",
     "text": [
      "red green green yellow\n"
     ]
    }
   ],
   "source": [
    "print(*counter_moscow.elements())"
   ]
  },
  {
   "cell_type": "code",
   "execution_count": 94,
   "metadata": {},
   "outputs": [
    {
     "name": "stdout",
     "output_type": "stream",
     "text": [
      "white white white black black brown brown brown brown\n"
     ]
    }
   ],
   "source": [
    "print(*counter_sbb.elements())"
   ]
  },
  {
   "cell_type": "code",
   "execution_count": 95,
   "metadata": {},
   "outputs": [
    {
     "name": "stdout",
     "output_type": "stream",
     "text": [
      "a == x\n"
     ]
    }
   ],
   "source": [
    "a = 5\n",
    "x = 5.0\n",
    "if a == x: print('a == x')"
   ]
  },
  {
   "cell_type": "code",
   "execution_count": 96,
   "metadata": {},
   "outputs": [
    {
     "name": "stdout",
     "output_type": "stream",
     "text": [
      "['red', 'white', 'black', 'yellow', 'brown', 'green']\n"
     ]
    }
   ],
   "source": [
    "print(list(counter_sbb))"
   ]
  },
  {
   "cell_type": "code",
   "execution_count": 97,
   "metadata": {},
   "outputs": [
    {
     "name": "stdout",
     "output_type": "stream",
     "text": [
      "{'red': 0, 'white': 3, 'black': 2, 'yellow': 0, 'brown': 4, 'green': -2}\n"
     ]
    }
   ],
   "source": [
    "print(dict(counter_sbb))"
   ]
  },
  {
   "cell_type": "code",
   "execution_count": 98,
   "metadata": {},
   "outputs": [
    {
     "name": "stdout",
     "output_type": "stream",
     "text": [
      "[('brown', 4), ('white', 3), ('black', 2)]\n"
     ]
    }
   ],
   "source": [
    "print(counter_sbb.most_common(3))"
   ]
  },
  {
   "cell_type": "code",
   "execution_count": 99,
   "metadata": {},
   "outputs": [],
   "source": [
    "counter_moscow.clear()"
   ]
  },
  {
   "cell_type": "code",
   "execution_count": 100,
   "metadata": {},
   "outputs": [
    {
     "data": {
      "text/plain": [
       "Counter()"
      ]
     },
     "execution_count": 100,
     "metadata": {},
     "output_type": "execute_result"
    }
   ],
   "source": [
    "counter_moscow"
   ]
  },
  {
   "cell_type": "code",
   "execution_count": 101,
   "metadata": {},
   "outputs": [],
   "source": [
    "students = [\n",
    "    ('Ivanov', 1), \n",
    "    ('Smirnov', 4), \n",
    "    ('Petrov', 3), \n",
    "    ('Kuznecova', 1),\n",
    "    ('Nikitina', 2),\n",
    "    ('Markov', 3),\n",
    "    ('Pavlov', 2)\n",
    "        ]"
   ]
  },
  {
   "cell_type": "code",
   "execution_count": 102,
   "metadata": {},
   "outputs": [
    {
     "name": "stdout",
     "output_type": "stream",
     "text": [
      "{1: ['Ivanov', 'Kuznecova'], 4: ['Smirnov'], 3: ['Petrov', 'Markov'], 2: ['Nikitina', 'Pavlov']}\n"
     ]
    }
   ],
   "source": [
    "groups = dict()\n",
    "for student, group in students:\n",
    "    #Проверяем, есть ли уже эта группа в словаре\n",
    "    if group not in groups:\n",
    "        # Если группы еще нет в словаре, создаем для нее пустой список\n",
    "        groups[group] = list()\n",
    "    groups[group].append(student)\n",
    "print(groups)"
   ]
  },
  {
   "cell_type": "code",
   "execution_count": 103,
   "metadata": {},
   "outputs": [],
   "source": [
    "from collections import defaultdict"
   ]
  },
  {
   "cell_type": "code",
   "execution_count": 104,
   "metadata": {},
   "outputs": [],
   "source": [
    "groups = defaultdict(list)"
   ]
  },
  {
   "cell_type": "code",
   "execution_count": 105,
   "metadata": {},
   "outputs": [
    {
     "name": "stdout",
     "output_type": "stream",
     "text": [
      "defaultdict(<class 'list'>, {1: ['Ivanov', 'Kuznecova'], 4: ['Smirnov'], 3: ['Petrov', 'Markov'], 2: ['Nikitina', 'Pavlov']})\n"
     ]
    }
   ],
   "source": [
    "for student, group in students:\n",
    "    groups[group].append(student)\n",
    "print(groups)"
   ]
  },
  {
   "cell_type": "code",
   "execution_count": 106,
   "metadata": {},
   "outputs": [
    {
     "name": "stdout",
     "output_type": "stream",
     "text": [
      "[]\n"
     ]
    }
   ],
   "source": [
    "print(groups[2021])"
   ]
  },
  {
   "cell_type": "code",
   "execution_count": 107,
   "metadata": {},
   "outputs": [
    {
     "name": "stdout",
     "output_type": "stream",
     "text": [
      "defaultdict(<class 'list'>, {1: ['Ivanov', 'Kuznecova'], 4: ['Smirnov'], 3: ['Petrov', 'Markov'], 2: ['Nikitina', 'Pavlov'], 2021: []})\n"
     ]
    }
   ],
   "source": [
    "print(groups)"
   ]
  },
  {
   "cell_type": "code",
   "execution_count": 108,
   "metadata": {},
   "outputs": [
    {
     "name": "stdout",
     "output_type": "stream",
     "text": [
      "3.9.10 (tags/v3.9.10:f2f3f53, Jan 17 2022, 15:14:21) [MSC v.1929 64 bit (AMD64)]\n"
     ]
    }
   ],
   "source": [
    "import sys\n",
    "print(sys.version)"
   ]
  },
  {
   "cell_type": "code",
   "execution_count": 109,
   "metadata": {},
   "outputs": [],
   "source": [
    "from collections import deque\n",
    "dq = deque()"
   ]
  },
  {
   "cell_type": "code",
   "execution_count": 110,
   "metadata": {},
   "outputs": [],
   "source": [
    "client = deque()\n",
    "client.append('Ivaniv')\n",
    "client.append('Petrov')\n",
    "client.append('Smirnova')\n",
    "client.append('Tichonova')"
   ]
  },
  {
   "cell_type": "code",
   "execution_count": 111,
   "metadata": {},
   "outputs": [
    {
     "name": "stdout",
     "output_type": "stream",
     "text": [
      "deque(['Ivaniv', 'Petrov', 'Smirnova', 'Tichonova'])\n"
     ]
    }
   ],
   "source": [
    "print(client)"
   ]
  },
  {
   "cell_type": "code",
   "execution_count": 112,
   "metadata": {},
   "outputs": [
    {
     "name": "stdout",
     "output_type": "stream",
     "text": [
      "Smirnova\n"
     ]
    }
   ],
   "source": [
    "print(client[2])"
   ]
  },
  {
   "cell_type": "code",
   "execution_count": 113,
   "metadata": {},
   "outputs": [
    {
     "name": "stdout",
     "output_type": "stream",
     "text": [
      "OrderedDict([('Ivan', 19), ('Maria', 20), ('Andrey', 23), ('Mark', 25)])\n"
     ]
    }
   ],
   "source": [
    "from collections import OrderedDict\n",
    "\n",
    "data = [('Ivan', 19), ('Mark', 25), ('Andrey', 23), ('Maria', 20)]\n",
    "order_client_ages = OrderedDict(sorted(data, key=lambda x: x[-1]))\n",
    "print(order_client_ages)"
   ]
  },
  {
   "cell_type": "code",
   "execution_count": 114,
   "metadata": {},
   "outputs": [
    {
     "name": "stdout",
     "output_type": "stream",
     "text": [
      "OrderedDict([('Ivan', 19), ('Maria', 20), ('Andrey', 23), ('Mark', 25), ('Nika', 27)])\n"
     ]
    }
   ],
   "source": [
    "order_client_ages['Nika'] = 27\n",
    "print(order_client_ages)"
   ]
  },
  {
   "cell_type": "code",
   "execution_count": 115,
   "metadata": {},
   "outputs": [
    {
     "name": "stdout",
     "output_type": "stream",
     "text": [
      "deque([])\n"
     ]
    }
   ],
   "source": [
    "from collections import deque\n",
    "db = deque()\n",
    "print(db)                    "
   ]
  },
  {
   "cell_type": "code",
   "execution_count": 116,
   "metadata": {},
   "outputs": [
    {
     "name": "stdout",
     "output_type": "stream",
     "text": [
      "deque(['Ivanov', 'Petrov', 'Smirnov', 'Tikhonova'])\n"
     ]
    }
   ],
   "source": [
    "clients = deque()\n",
    "clients.append('Ivanov')\n",
    "clients.append('Petrov')\n",
    "clients.append('Smirnov')\n",
    "clients.append('Tikhonova')\n",
    "print(clients)"
   ]
  },
  {
   "cell_type": "code",
   "execution_count": 117,
   "metadata": {},
   "outputs": [],
   "source": [
    "first_clients = clients.popleft()"
   ]
  },
  {
   "cell_type": "code",
   "execution_count": 118,
   "metadata": {},
   "outputs": [
    {
     "name": "stdout",
     "output_type": "stream",
     "text": [
      "deque(['Petrov', 'Smirnov', 'Tikhonova'])\n"
     ]
    }
   ],
   "source": [
    "print(clients)"
   ]
  },
  {
   "cell_type": "code",
   "execution_count": 119,
   "metadata": {},
   "outputs": [],
   "source": [
    "second_clients = clients.popleft()"
   ]
  },
  {
   "cell_type": "code",
   "execution_count": 120,
   "metadata": {},
   "outputs": [
    {
     "name": "stdout",
     "output_type": "stream",
     "text": [
      "deque(['Smirnov', 'Tikhonova'])\n"
     ]
    }
   ],
   "source": [
    "print(clients)"
   ]
  },
  {
   "cell_type": "code",
   "execution_count": 121,
   "metadata": {},
   "outputs": [],
   "source": [
    "clients.appendleft('VIP_client')"
   ]
  },
  {
   "cell_type": "code",
   "execution_count": 122,
   "metadata": {},
   "outputs": [
    {
     "name": "stdout",
     "output_type": "stream",
     "text": [
      "deque(['VIP_client', 'Smirnov', 'Tikhonova'])\n"
     ]
    }
   ],
   "source": [
    "print(clients)"
   ]
  },
  {
   "cell_type": "code",
   "execution_count": 123,
   "metadata": {},
   "outputs": [
    {
     "name": "stdout",
     "output_type": "stream",
     "text": [
      "Tikhonova left the queue\n",
      "deque(['VIP_client', 'Smirnov'])\n"
     ]
    }
   ],
   "source": [
    "tired_clients = clients.pop()\n",
    "print(tired_clients, 'left the queue')\n",
    "print(clients)"
   ]
  },
  {
   "cell_type": "code",
   "execution_count": 124,
   "metadata": {},
   "outputs": [
    {
     "name": "stdout",
     "output_type": "stream",
     "text": [
      "deque([1, 2, 3, 4, 5])\n",
      "deque([1, 2, 3, 4, 5, 11, 12, 13, 14, 15, 16, 17])\n"
     ]
    }
   ],
   "source": [
    "# В скобках передается список при создании dque,\n",
    "# что бы сразу добавить все его элементы в очередь\n",
    "shop = deque([1, 2, 3, 4, 5])\n",
    "print(shop)\n",
    "shop.extend([11,12, 13, 14, 15, 16, 17])\n",
    "print(shop)\n"
   ]
  },
  {
   "cell_type": "code",
   "execution_count": 125,
   "metadata": {},
   "outputs": [
    {
     "name": "stdout",
     "output_type": "stream",
     "text": [
      "deque([1, 2, 3, 4, 5])\n",
      "deque([17, 16, 15, 14, 13, 12, 11, 1, 2, 3, 4, 5])\n"
     ]
    }
   ],
   "source": [
    "shop = deque([1, 2, 3, 4, 5])\n",
    "print(shop)\n",
    "shop.extendleft([11,12, 13, 14, 15, 16, 17])\n",
    "print(shop)"
   ]
  },
  {
   "cell_type": "code",
   "execution_count": 126,
   "metadata": {},
   "outputs": [
    {
     "name": "stdout",
     "output_type": "stream",
     "text": [
      "deque([5, 6, 7], maxlen=3)\n"
     ]
    }
   ],
   "source": [
    "limited_from_list = deque([1,3,4,5,6,7], maxlen=3)\n",
    "print(limited_from_list)"
   ]
  },
  {
   "cell_type": "code",
   "execution_count": 127,
   "metadata": {},
   "outputs": [
    {
     "name": "stdout",
     "output_type": "stream",
     "text": [
      "OrderedDict([('2020', 1.5), ('2005', -1.6), ('2008', -1.7), ('2007', -2.4), ('2001', -2.5), ('2015', -2.7), ('2018', -2.9), ('2009', -3.5), ('2017', -3.9), ('2000', -4.4), ('2002', -4.4), ('2012', -4.9), ('2011', -5.8), ('2006', -5.9), ('2013', -6.1), ('2019', -6.5), ('2014', -6.9), ('2004', -8.2), ('2003', -9.5), ('2016', -11.2), ('2010', -12.1)])\n"
     ]
    }
   ],
   "source": [
    "from collections import OrderedDict\n",
    "\n",
    "temps = [('2000', -4.4), ('2001', -2.5), ('2002', -4.4), ('2003', -9.5),\n",
    "        ('2004', -8.2), ('2005', -1.6), ('2006', -5.9), ('2007', -2.4),\n",
    "        ('2008', -1.7), ('2009', -3.5), ('2010', -12.1), ('2011', -5.8),\n",
    "        ('2012', -4.9), ('2013', -6.1), ('2014', -6.9), ('2015', -2.7),\n",
    "        ('2016', -11.2), ('2017', -3.9), ('2018', -2.9), ('2019', -6.5),\n",
    "        ('2020', 1.5)]\n",
    "\n",
    "ord_dict = OrderedDict(sorted(temps, key=lambda x: x[1], reverse=True))\n",
    "\n",
    "#for yea, temp in temps:\n",
    "#    ord_dict[yea] = temp\n",
    "    \n",
    "print(ord_dict)\n",
    "    "
   ]
  },
  {
   "cell_type": "code",
   "execution_count": 128,
   "metadata": {},
   "outputs": [
    {
     "ename": "AttributeError",
     "evalue": "'list' object has no attribute 'maxlen'",
     "output_type": "error",
     "traceback": [
      "\u001b[1;31m---------------------------------------------------------------------------\u001b[0m",
      "\u001b[1;31mAttributeError\u001b[0m                            Traceback (most recent call last)",
      "\u001b[1;32mc:\\Users\\power\\DS_VS_code\\.ipynb_checkpoints\\PYTNON-9.ipynb Cell 48'\u001b[0m in \u001b[0;36m<cell line: 2>\u001b[1;34m()\u001b[0m\n\u001b[0;32m      <a href='vscode-notebook-cell:/c%3A/Users/power/DS_VS_code/.ipynb_checkpoints/PYTNON-9.ipynb#ch0000047?line=3'>4</a>\u001b[0m     days\u001b[39m.\u001b[39mappend(temp)\n\u001b[0;32m      <a href='vscode-notebook-cell:/c%3A/Users/power/DS_VS_code/.ipynb_checkpoints/PYTNON-9.ipynb#ch0000047?line=4'>5</a>\u001b[0m     \u001b[39m# Если длина очереди оказалась равной максимальной длине очереди (7),\u001b[39;00m\n\u001b[0;32m      <a href='vscode-notebook-cell:/c%3A/Users/power/DS_VS_code/.ipynb_checkpoints/PYTNON-9.ipynb#ch0000047?line=5'>6</a>\u001b[0m     \u001b[39m# печатаем среднию температуру за последние 7 дней\u001b[39;00m\n\u001b[1;32m----> <a href='vscode-notebook-cell:/c%3A/Users/power/DS_VS_code/.ipynb_checkpoints/PYTNON-9.ipynb#ch0000047?line=6'>7</a>\u001b[0m     \u001b[39mif\u001b[39;00m \u001b[39mlen\u001b[39m(days) \u001b[39m==\u001b[39m days\u001b[39m.\u001b[39;49mmaxlen:\n\u001b[0;32m      <a href='vscode-notebook-cell:/c%3A/Users/power/DS_VS_code/.ipynb_checkpoints/PYTNON-9.ipynb#ch0000047?line=7'>8</a>\u001b[0m         \u001b[39mprint\u001b[39m(\u001b[39mround\u001b[39m(\u001b[39msum\u001b[39m(days) \u001b[39m/\u001b[39m \u001b[39mlen\u001b[39m(days), \u001b[39m2\u001b[39m), end\u001b[39m=\u001b[39m\u001b[39m'\u001b[39m\u001b[39m; \u001b[39m\u001b[39m'\u001b[39m)\n\u001b[0;32m      <a href='vscode-notebook-cell:/c%3A/Users/power/DS_VS_code/.ipynb_checkpoints/PYTNON-9.ipynb#ch0000047?line=8'>9</a>\u001b[0m \u001b[39m# Напечатаем пустую строку, чтобы действие параметра\u001b[39;00m\n\u001b[0;32m     <a href='vscode-notebook-cell:/c%3A/Users/power/DS_VS_code/.ipynb_checkpoints/PYTNON-9.ipynb#ch0000047?line=9'>10</a>\u001b[0m \u001b[39m# end.Иначе следующая строка окажется напечатанно на предыдущей\u001b[39;00m\n",
      "\u001b[1;31mAttributeError\u001b[0m: 'list' object has no attribute 'maxlen'"
     ]
    }
   ],
   "source": [
    "days = []\n",
    "for temp in temps:\n",
    "    # Добовляем температуру в очередь\n",
    "    days.append(temp)\n",
    "    # Если длина очереди оказалась равной максимальной длине очереди (7),\n",
    "    # печатаем среднию температуру за последние 7 дней\n",
    "    if len(days) == days.maxlen:\n",
    "        print(round(sum(days) / len(days), 2), end='; ')\n",
    "# Напечатаем пустую строку, чтобы действие параметра\n",
    "# end.Иначе следующая строка окажется напечатанно на предыдущей\n",
    "print('')\n"
   ]
  },
  {
   "cell_type": "code",
   "execution_count": null,
   "metadata": {},
   "outputs": [
    {
     "name": "stdout",
     "output_type": "stream",
     "text": [
      "Original Dictionary\n",
      "OrderedDict([('G', None), ('e', None), ('k', None), ('s', None), ('F', None), ('o', None), ('r', None)])\n",
      "\n",
      "After Deleting Last item :\n",
      "OrderedDict([('G', None), ('e', None), ('k', None), ('s', None), ('F', None), ('o', None)])\n",
      "\n",
      "After Deleting Key from Beginning :\n",
      "OrderedDict([('e', None), ('k', None), ('s', None), ('F', None), ('o', None)])\n"
     ]
    }
   ],
   "source": [
    "from collections import OrderedDict\n",
    " \n",
    " \n",
    "ord_dict = OrderedDict().fromkeys('GeeksForGeeks')\n",
    "print(\"Original Dictionary\")\n",
    "print(ord_dict)\n",
    " \n",
    "# Pop the key from last\n",
    "ord_dict.popitem()\n",
    "print(\"\\nAfter Deleting Last item :\")\n",
    "print(ord_dict)\n",
    " \n",
    "# Pop the key from beginning\n",
    "ord_dict.popitem(last = False)\n",
    "print(\"\\nAfter Deleting Key from Beginning :\")\n",
    "print(ord_dict)\n"
   ]
  },
  {
   "cell_type": "code",
   "execution_count": null,
   "metadata": {},
   "outputs": [],
   "source": [
    "ratings = [('Old York', 3.3), ('New Age', 4.6), ('Old Gold', 3.3), ('General Foods', 4.8),\n",
    "          ('Belissimo', 4.5), ('CakeAndCoffee', 4.2), ('CakeOClock', 4.2), ('CakeTime', 4.1),\n",
    "          ('WokToWork', 4.9), ('WokAndRice', 4.9), ('Old Wine Cellar', 3.3), ('Nice Cakes', 3.9)]\n",
    "# Отсортируйте список ratings по убыванию рейтинга. Для кафе\n",
    "# с одинаковым рейтингом отсортируйте кортежи по названию.\n",
    "ratings.sort(key=lambda x: (-x[1], x[0]))\n",
    "# Сохраните данные с рейтингом в словарь cafes, где ключами являются\n",
    "# названия кафе, а значениями - их рейтинг.\n",
    "from collections import OrderedDict\n",
    "cafes = OrderedDict(ratings)"
   ]
  },
  {
   "cell_type": "markdown",
   "metadata": {},
   "source": [
    "ЗАДАНИЕ 4.10"
   ]
  },
  {
   "cell_type": "code",
   "execution_count": null,
   "metadata": {},
   "outputs": [],
   "source": [
    "from collections import deque, defaultdict\n",
    "\n",
    "def task_manager(tasks):\n",
    "    servers = defaultdict(deque)\n",
    "    for task in tasks:\n",
    "        if task[-1]:\n",
    "            servers[task[1]].appendleft(task[0])\n",
    "        else:\n",
    "            servers[task[1]].append(task[0])\n",
    "    return servers"
   ]
  },
  {
   "cell_type": "code",
   "execution_count": null,
   "metadata": {},
   "outputs": [],
   "source": [
    "import numpy as np"
   ]
  },
  {
   "cell_type": "code",
   "execution_count": null,
   "metadata": {},
   "outputs": [
    {
     "name": "stdout",
     "output_type": "stream",
     "text": [
      "25\n"
     ]
    }
   ],
   "source": [
    "a = np.int8(25)\n",
    "print(a)"
   ]
  },
  {
   "cell_type": "code",
   "execution_count": null,
   "metadata": {},
   "outputs": [
    {
     "data": {
      "text/plain": [
       "iinfo(min=-128, max=127, dtype=int8)"
      ]
     },
     "execution_count": 53,
     "metadata": {},
     "output_type": "execute_result"
    }
   ],
   "source": [
    "np.iinfo(a)"
   ]
  },
  {
   "cell_type": "code",
   "execution_count": null,
   "metadata": {},
   "outputs": [
    {
     "name": "stdout",
     "output_type": "stream",
     "text": [
      "['?', 0, 'byte', 'b', 1, 'ubyte', 'B', 2, 'short', 'h', 3, 'ushort', 'H', 4, 'i', 5, 'uint', 'I', 6, 'intp', 'p', 9, 'uintp', 'P', 10, 'long', 'l', 7, 'L', 8, 'longlong', 'q', 'ulonglong', 'Q', 'half', 'e', 23, 'f', 11, 'double', 'd', 12, 'longdouble', 'g', 13, 'cfloat', 'F', 14, 'cdouble', 'D', 15, 'clongdouble', 'G', 16, 'O', 17, 'S', 18, 'unicode', 'U', 19, 'void', 'V', 20, 'M', 21, 'm', 22, 'bool8', 'b1', 'int64', 'i8', 'uint64', 'u8', 'float16', 'f2', 'float32', 'f4', 'float64', 'f8', 'complex64', 'c8', 'complex128', 'c16', 'object0', 'bytes0', 'str0', 'void0', 'datetime64', 'M8', 'timedelta64', 'm8', 'int32', 'i4', 'uint32', 'u4', 'int16', 'i2', 'uint16', 'u2', 'int8', 'i1', 'uint8', 'u1', 'complex_', 'int0', 'uint0', 'single', 'csingle', 'singlecomplex', 'float_', 'intc', 'uintc', 'int_', 'longfloat', 'clongfloat', 'longcomplex', 'bool_', 'bytes_', 'string_', 'str_', 'unicode_', 'object_', 'int', 'float', 'complex', 'bool', 'object', 'str', 'bytes', 'a']\n",
      "Counter({'?': 1, 0: 1, 'byte': 1, 'b': 1, 1: 1, 'ubyte': 1, 'B': 1, 2: 1, 'short': 1, 'h': 1, 3: 1, 'ushort': 1, 'H': 1, 4: 1, 'i': 1, 5: 1, 'uint': 1, 'I': 1, 6: 1, 'intp': 1, 'p': 1, 9: 1, 'uintp': 1, 'P': 1, 10: 1, 'long': 1, 'l': 1, 7: 1, 'L': 1, 8: 1, 'longlong': 1, 'q': 1, 'ulonglong': 1, 'Q': 1, 'half': 1, 'e': 1, 23: 1, 'f': 1, 11: 1, 'double': 1, 'd': 1, 12: 1, 'longdouble': 1, 'g': 1, 13: 1, 'cfloat': 1, 'F': 1, 14: 1, 'cdouble': 1, 'D': 1, 15: 1, 'clongdouble': 1, 'G': 1, 16: 1, 'O': 1, 17: 1, 'S': 1, 18: 1, 'unicode': 1, 'U': 1, 19: 1, 'void': 1, 'V': 1, 20: 1, 'M': 1, 21: 1, 'm': 1, 22: 1, 'bool8': 1, 'b1': 1, 'int64': 1, 'i8': 1, 'uint64': 1, 'u8': 1, 'float16': 1, 'f2': 1, 'float32': 1, 'f4': 1, 'float64': 1, 'f8': 1, 'complex64': 1, 'c8': 1, 'complex128': 1, 'c16': 1, 'object0': 1, 'bytes0': 1, 'str0': 1, 'void0': 1, 'datetime64': 1, 'M8': 1, 'timedelta64': 1, 'm8': 1, 'int32': 1, 'i4': 1, 'uint32': 1, 'u4': 1, 'int16': 1, 'i2': 1, 'uint16': 1, 'u2': 1, 'int8': 1, 'i1': 1, 'uint8': 1, 'u1': 1, 'complex_': 1, 'int0': 1, 'uint0': 1, 'single': 1, 'csingle': 1, 'singlecomplex': 1, 'float_': 1, 'intc': 1, 'uintc': 1, 'int_': 1, 'longfloat': 1, 'clongfloat': 1, 'longcomplex': 1, 'bool_': 1, 'bytes_': 1, 'string_': 1, 'str_': 1, 'unicode_': 1, 'object_': 1, 'int': 1, 'float': 1, 'complex': 1, 'bool': 1, 'object': 1, 'str': 1, 'bytes': 1, 'a': 1})\n"
     ]
    }
   ],
   "source": [
    "a = list(np.sctypeDict)\n",
    "print(a)\n",
    "from collections import Counter\n",
    "c = Counter(a)\n",
    "print(c)"
   ]
  },
  {
   "cell_type": "code",
   "execution_count": null,
   "metadata": {},
   "outputs": [
    {
     "data": {
      "text/plain": [
       "4294967296"
      ]
     },
     "execution_count": 67,
     "metadata": {},
     "output_type": "execute_result"
    }
   ],
   "source": [
    "2**32\n",
    "\n"
   ]
  },
  {
   "cell_type": "code",
   "execution_count": null,
   "metadata": {},
   "outputs": [
    {
     "name": "stdout",
     "output_type": "stream",
     "text": [
      "Machine parameters for int8\n",
      "---------------------------------------------------------------\n",
      "min = -128\n",
      "max = 127\n",
      "---------------------------------------------------------------\n",
      "\n",
      "Machine parameters for int16\n",
      "---------------------------------------------------------------\n",
      "min = -32768\n",
      "max = 32767\n",
      "---------------------------------------------------------------\n",
      "\n",
      "Machine parameters for int32\n",
      "---------------------------------------------------------------\n",
      "min = -2147483648\n",
      "max = 2147483647\n",
      "---------------------------------------------------------------\n",
      "\n",
      "Machine parameters for int64\n",
      "---------------------------------------------------------------\n",
      "min = -9223372036854775808\n",
      "max = 9223372036854775807\n",
      "---------------------------------------------------------------\n",
      "\n",
      "Machine parameters for uint64\n",
      "---------------------------------------------------------------\n",
      "min = 0\n",
      "max = 18446744073709551615\n",
      "---------------------------------------------------------------\n",
      "\n"
     ]
    }
   ],
   "source": [
    "print(np.iinfo(np.int8))\n",
    "print(np.iinfo(np.int16))\n",
    "print(np.iinfo(np.int32))\n",
    "print(np.iinfo(np.int64))\n",
    "print(np.iinfo(np.uint64))"
   ]
  },
  {
   "cell_type": "code",
   "execution_count": null,
   "metadata": {},
   "outputs": [
    {
     "name": "stdout",
     "output_type": "stream",
     "text": [
      "1000\n",
      "<class 'numpy.int32'>\n",
      "2056\n",
      "<class 'int'>\n",
      "1000\n",
      "<class 'numpy.int32'>\n",
      "2056\n",
      "<class 'numpy.int32'>\n"
     ]
    }
   ],
   "source": [
    "a = np.int32(1000)\n",
    "print(a)\n",
    "# 1000\n",
    "print(type(a))\n",
    "# <class 'numpy.int32'>\n",
    "a = 2056\n",
    "print(a)\n",
    "# 2056\n",
    "print(type(a))\n",
    "# <class 'int'>\n",
    "a = np.int32(1000)\n",
    "print(a)\n",
    "# 1000\n",
    "print(type(a))\n",
    "# <class 'numpy.int32'>\n",
    "a = np.int32(2056)\n",
    "print(a)\n",
    "# 2056\n",
    "print(type(a))\n",
    "# <class 'numpy.int32'>"
   ]
  },
  {
   "cell_type": "code",
   "execution_count": null,
   "metadata": {},
   "outputs": [],
   "source": [
    "a = np.int32(1000)\n",
    "b = a + 25\n",
    "print(b)\n",
    "# 1025\n",
    "print(type(b))\n",
    "# <class 'numpy.int64'>"
   ]
  },
  {
   "cell_type": "markdown",
   "metadata": {},
   "source": [
    "А вот арифметические операции сохраняют NumPy-тип данных:"
   ]
  },
  {
   "cell_type": "code",
   "execution_count": null,
   "metadata": {},
   "outputs": [
    {
     "name": "stdout",
     "output_type": "stream",
     "text": [
      "1025\n",
      "<class 'numpy.int32'>\n"
     ]
    }
   ],
   "source": [
    "a = np.int32(1000)\n",
    "b = a + 25\n",
    "print(b)\n",
    "# 1025\n",
    "print(type(b))\n",
    "# <class 'numpy.int64'>"
   ]
  },
  {
   "cell_type": "markdown",
   "metadata": {},
   "source": [
    "*Примечание*. В некоторых более старых версиях NumPy тип данных может измениться на int64 вместо ожидаемого int32. Это связано с тем, что число 25 может быть сначала преобразовано в NumPy-тип данных int (по умолчанию int64) перед сложением. Скорее всего, на практике вам не особо помешает такая особенность, однако о ней следует помнить, когда требуется хранить числа максимально оптимальным способом."
   ]
  },
  {
   "cell_type": "markdown",
   "metadata": {},
   "source": [
    "Если операция проводится с двумя NumPy-типами с фиксированным объёмом памяти, в результате сохраняется наиболее «старший» тип:"
   ]
  },
  {
   "cell_type": "code",
   "execution_count": null,
   "metadata": {},
   "outputs": [],
   "source": [
    "a = np.int32(1000)\n",
    "b = np.int8(25)\n",
    "c = a + b\n",
    "print(c)\n",
    "# 1025\n",
    "print(type(c))\n",
    "# <class 'numpy.int32'>"
   ]
  },
  {
   "cell_type": "markdown",
   "metadata": {},
   "source": [
    "Следует понимать, что произойдёт, если выделенной памяти для хранения переменной окажется недостаточно.\n",
    "\n",
    "Например, попробуем преобразовать число 260 в тип данных np.int8. Вспомните, какое максимальное число может храниться в этом типе данных."
   ]
  },
  {
   "cell_type": "code",
   "execution_count": null,
   "metadata": {},
   "outputs": [],
   "source": [
    "a = np.int8(260)\n",
    "print(a)\n",
    "# 4"
   ]
  },
  {
   "cell_type": "markdown",
   "metadata": {},
   "source": [
    "В переменной a теперь оказалось число 4, а не 260. По сути в переменную записался остаток от деления 260 на 256, а не само число. Ошибка при этом не возникла.\n",
    "\n",
    "Если же при арифметических операциях происходит переполнение максимально выделенной памяти для типа, возникает предупреждение.\n",
    "\n",
    "Например, выполним сложение двух очень больших чисел типа int32 (максимум для этого типа — 2147483647):"
   ]
  },
  {
   "cell_type": "code",
   "execution_count": null,
   "metadata": {},
   "outputs": [
    {
     "name": "stdout",
     "output_type": "stream",
     "text": [
      "2147483610 2147483605\n",
      "-81\n"
     ]
    },
    {
     "name": "stderr",
     "output_type": "stream",
     "text": [
      "C:\\Users\\power\\AppData\\Local\\Temp\\ipykernel_12180\\2257502981.py:5: RuntimeWarning: overflow encountered in long_scalars\n",
      "  print(a + b)\n"
     ]
    }
   ],
   "source": [
    "a = np.int32(2147483610)\n",
    "b = np.int32(2147483605)\n",
    "print(a, b)\n",
    "# 2147483610 2147483605\n",
    "print(a + b)\n",
    "# -81\n",
    "# RuntimeWarning: overflow encountered in int_scalars\n",
    "# Переполнено int'овое значение"
   ]
  },
  {
   "cell_type": "markdown",
   "metadata": {},
   "source": [
    "Значение было посчитано, но при этом оно явно отличается от той суммы, которую мы хотели получить.\n",
    "\n",
    "Чтобы избежать этой ошибки, вначале следовало преобразовать переменные к большему типу:"
   ]
  },
  {
   "cell_type": "code",
   "execution_count": null,
   "metadata": {},
   "outputs": [
    {
     "name": "stdout",
     "output_type": "stream",
     "text": [
      "2147483610 2147483605\n",
      "4294967215\n"
     ]
    }
   ],
   "source": [
    "a = np.int32(2147483610)\n",
    "b = np.int32(2147483605)\n",
    "print(a, b)\n",
    "# 2147483610 2147483605\n",
    "print(np.int64(a) + np.int64(b))\n",
    "# 4294967215"
   ]
  },
  {
   "cell_type": "markdown",
   "metadata": {},
   "source": [
    "ТИПЫ ДАННЫХ С ПЛАВАЮЩЕЙ ТОЧКОЙ В NUMPY\n",
    "\n",
    "Помимо целых чисел, в NumPy, конечно, есть и дробные — float. Их названия строятся по тому же принципу: корень + объём памяти в битах. Беззнаковых float нет.\n",
    "\n",
    "Доступны следующие типы данных float: float16, float32, float64 (применяется по умолчанию, если объём памяти не задан дополнительно), float128.\n",
    "\n",
    "Чтобы узнать границы float и его точность, можно воспользоваться функцией np.finfo(<float тип данных>) (от англ. float info):"
   ]
  },
  {
   "cell_type": "code",
   "execution_count": null,
   "metadata": {},
   "outputs": [
    {
     "data": {
      "text/plain": [
       "finfo(resolution=1e-15, min=-1.7976931348623157e+308, max=1.7976931348623157e+308, dtype=float64)"
      ]
     },
     "execution_count": 81,
     "metadata": {},
     "output_type": "execute_result"
    }
   ],
   "source": [
    "np.finfo(np.float16)\n",
    "# finfo(resolution=0.001, min=-6.55040e+04, max=6.55040e+04, dtype=float16)\n",
    "np.finfo(np.float32)\n",
    "# finfo(resolution=1e-06, min=-3.4028235e+38, max=3.4028235e+38, dtype=float32)\n",
    "np.finfo(np.float64)\n",
    "# finfo(resolution=1e-15, min=-1.7976931348623157e+308, max=1.7976931348623157e+308, dtype=float64)\n",
    "#np.finfo(np.float128)\n",
    "# finfo(resolution=1e-18, min=-1.189731495357231765e+4932, max=1.189731495357231765e+4932, dtype=float128)"
   ]
  },
  {
   "cell_type": "markdown",
   "metadata": {},
   "source": [
    "Рассмотрим вывод finfo для float16 внимательнее.\n",
    "\n",
    "Для начала посмотрим на значения min и max. Они указаны в стандартном виде числа. Это такой формат записи числа, при котором число записывается в виде , где  — целое число, а для  верно: .\n",
    "\n",
    "Например, 2021 можно записать в виде . При выводе числа в стандартном виде вместо умножения на 10 в степени  пишется буква , знак степени (+ или -) и сама степень. Следовательно, число 2021 может быть представлено как .\n",
    "\n",
    "Таким образом, минимальным значением float16 является -6.55040e+04, или -65504.0. Максимальное значение — 6.55040e+04, или 65504.0.\n",
    "\n",
    "Resolution (от англ. «разрешение») в выводе finfo означает точность, с которой сохраняется десятичная часть числа в стандартном виде. Для float16 это 0.001, то есть числа 4.12 и 4.13 будут отличимы друг от друга, а вот 4.124 и 4.125 — нет. Третий знак числа float16 идёт уже с шагом 0.005:"
   ]
  },
  {
   "cell_type": "code",
   "execution_count": null,
   "metadata": {},
   "outputs": [
    {
     "name": "stdout",
     "output_type": "stream",
     "text": [
      "4.12\n",
      "4.13\n",
      "4.12\n",
      "4.125\n",
      "4.125\n"
     ]
    }
   ],
   "source": [
    "print(np.float16(4.12))\n",
    "# 4.12\n",
    "print(np.float16(4.13))\n",
    "# 4.13\n",
    "print(np.float16(4.123))\n",
    "# 4.12\n",
    "print(np.float16(4.124))\n",
    "# 4.125\n",
    "print(np.float16(4.125))\n",
    "# 4.125"
   ]
  },
  {
   "cell_type": "markdown",
   "metadata": {},
   "source": [
    "ДОПОЛНИТЕЛЬНЫЕ ТИПЫ ДАННЫХ В NUMPY\n",
    "\n",
    "Полный список (а точнее, словарь) типов данных в NumPy можно получить с помощью атрибута sctypeDict. Вывод не приводится, поскольку в этом словаре содержится более 100 ключей (их число может варьироваться в зависимости от версии NumPy)! Однако основные названия типов данных в NumPy не меняются от версии к версии."
   ]
  },
  {
   "cell_type": "code",
   "execution_count": null,
   "metadata": {},
   "outputs": [
    {
     "name": "stdout",
     "output_type": "stream",
     "text": [
      "{'?': <class 'numpy.bool_'>, 0: <class 'numpy.bool_'>, 'byte': <class 'numpy.int8'>, 'b': <class 'numpy.int8'>, 1: <class 'numpy.int8'>, 'ubyte': <class 'numpy.uint8'>, 'B': <class 'numpy.uint8'>, 2: <class 'numpy.uint8'>, 'short': <class 'numpy.int16'>, 'h': <class 'numpy.int16'>, 3: <class 'numpy.int16'>, 'ushort': <class 'numpy.uint16'>, 'H': <class 'numpy.uint16'>, 4: <class 'numpy.uint16'>, 'i': <class 'numpy.intc'>, 5: <class 'numpy.intc'>, 'uint': <class 'numpy.uint32'>, 'I': <class 'numpy.uintc'>, 6: <class 'numpy.uintc'>, 'intp': <class 'numpy.int64'>, 'p': <class 'numpy.int64'>, 9: <class 'numpy.int64'>, 'uintp': <class 'numpy.uint64'>, 'P': <class 'numpy.uint64'>, 10: <class 'numpy.uint64'>, 'long': <class 'numpy.int32'>, 'l': <class 'numpy.int32'>, 7: <class 'numpy.int32'>, 'L': <class 'numpy.uint32'>, 8: <class 'numpy.uint32'>, 'longlong': <class 'numpy.int64'>, 'q': <class 'numpy.int64'>, 'ulonglong': <class 'numpy.uint64'>, 'Q': <class 'numpy.uint64'>, 'half': <class 'numpy.float16'>, 'e': <class 'numpy.float16'>, 23: <class 'numpy.float16'>, 'f': <class 'numpy.float32'>, 11: <class 'numpy.float32'>, 'double': <class 'numpy.float64'>, 'd': <class 'numpy.float64'>, 12: <class 'numpy.float64'>, 'longdouble': <class 'numpy.longdouble'>, 'g': <class 'numpy.longdouble'>, 13: <class 'numpy.longdouble'>, 'cfloat': <class 'numpy.complex128'>, 'F': <class 'numpy.complex64'>, 14: <class 'numpy.complex64'>, 'cdouble': <class 'numpy.complex128'>, 'D': <class 'numpy.complex128'>, 15: <class 'numpy.complex128'>, 'clongdouble': <class 'numpy.clongdouble'>, 'G': <class 'numpy.clongdouble'>, 16: <class 'numpy.clongdouble'>, 'O': <class 'numpy.object_'>, 17: <class 'numpy.object_'>, 'S': <class 'numpy.bytes_'>, 18: <class 'numpy.bytes_'>, 'unicode': <class 'numpy.str_'>, 'U': <class 'numpy.str_'>, 19: <class 'numpy.str_'>, 'void': <class 'numpy.void'>, 'V': <class 'numpy.void'>, 20: <class 'numpy.void'>, 'M': <class 'numpy.datetime64'>, 21: <class 'numpy.datetime64'>, 'm': <class 'numpy.timedelta64'>, 22: <class 'numpy.timedelta64'>, 'bool8': <class 'numpy.bool_'>, 'b1': <class 'numpy.bool_'>, 'int64': <class 'numpy.int64'>, 'i8': <class 'numpy.int64'>, 'uint64': <class 'numpy.uint64'>, 'u8': <class 'numpy.uint64'>, 'float16': <class 'numpy.float16'>, 'f2': <class 'numpy.float16'>, 'float32': <class 'numpy.float32'>, 'f4': <class 'numpy.float32'>, 'float64': <class 'numpy.float64'>, 'f8': <class 'numpy.float64'>, 'complex64': <class 'numpy.complex64'>, 'c8': <class 'numpy.complex64'>, 'complex128': <class 'numpy.complex128'>, 'c16': <class 'numpy.complex128'>, 'object0': <class 'numpy.object_'>, 'bytes0': <class 'numpy.bytes_'>, 'str0': <class 'numpy.str_'>, 'void0': <class 'numpy.void'>, 'datetime64': <class 'numpy.datetime64'>, 'M8': <class 'numpy.datetime64'>, 'timedelta64': <class 'numpy.timedelta64'>, 'm8': <class 'numpy.timedelta64'>, 'int32': <class 'numpy.int32'>, 'i4': <class 'numpy.int32'>, 'uint32': <class 'numpy.uint32'>, 'u4': <class 'numpy.uint32'>, 'int16': <class 'numpy.int16'>, 'i2': <class 'numpy.int16'>, 'uint16': <class 'numpy.uint16'>, 'u2': <class 'numpy.uint16'>, 'int8': <class 'numpy.int8'>, 'i1': <class 'numpy.int8'>, 'uint8': <class 'numpy.uint8'>, 'u1': <class 'numpy.uint8'>, 'complex_': <class 'numpy.complex128'>, 'int0': <class 'numpy.int64'>, 'uint0': <class 'numpy.uint64'>, 'single': <class 'numpy.float32'>, 'csingle': <class 'numpy.complex64'>, 'singlecomplex': <class 'numpy.complex64'>, 'float_': <class 'numpy.float64'>, 'intc': <class 'numpy.intc'>, 'uintc': <class 'numpy.uintc'>, 'int_': <class 'numpy.int32'>, 'longfloat': <class 'numpy.longdouble'>, 'clongfloat': <class 'numpy.clongdouble'>, 'longcomplex': <class 'numpy.clongdouble'>, 'bool_': <class 'numpy.bool_'>, 'bytes_': <class 'numpy.bytes_'>, 'string_': <class 'numpy.bytes_'>, 'str_': <class 'numpy.str_'>, 'unicode_': <class 'numpy.str_'>, 'object_': <class 'numpy.object_'>, 'int': <class 'numpy.int32'>, 'float': <class 'numpy.float64'>, 'complex': <class 'numpy.complex128'>, 'bool': <class 'numpy.bool_'>, 'object': <class 'numpy.object_'>, 'str': <class 'numpy.str_'>, 'bytes': <class 'numpy.bytes_'>, 'a': <class 'numpy.bytes_'>}\n",
      "131\n"
     ]
    }
   ],
   "source": [
    "print(np.sctypeDict)\n",
    "print(len(np.sctypeDict))\n",
    "# 158, но может быть 135 или 139"
   ]
  },
  {
   "cell_type": "code",
   "execution_count": null,
   "metadata": {},
   "outputs": [
    {
     "name": "stdout",
     "output_type": "stream",
     "text": [
      "<class 'numpy.bool_'>\n",
      "<class 'numpy.bytes_'>\n",
      "<class 'numpy.clongdouble'>\n",
      "<class 'numpy.complex128'>\n",
      "<class 'numpy.complex64'>\n",
      "<class 'numpy.datetime64'>\n",
      "<class 'numpy.float16'>\n",
      "<class 'numpy.float32'>\n",
      "<class 'numpy.float64'>\n",
      "<class 'numpy.int16'>\n",
      "<class 'numpy.int32'>\n",
      "<class 'numpy.int64'>\n",
      "<class 'numpy.int8'>\n",
      "<class 'numpy.intc'>\n",
      "<class 'numpy.longdouble'>\n",
      "<class 'numpy.object_'>\n",
      "<class 'numpy.str_'>\n",
      "<class 'numpy.timedelta64'>\n",
      "<class 'numpy.uint16'>\n",
      "<class 'numpy.uint32'>\n",
      "<class 'numpy.uint64'>\n",
      "<class 'numpy.uint8'>\n",
      "<class 'numpy.uintc'>\n",
      "<class 'numpy.void'>\n"
     ]
    }
   ],
   "source": [
    "print(*sorted(map(str, set(np.sctypeDict.values()))), sep='\\n')"
   ]
  },
  {
   "cell_type": "markdown",
   "metadata": {},
   "source": [
    "Всего в выдаче будет 24 строки. Int, uint и float мы уже изучили. Datetime и timedelta используются для хранения времени, complex используется для работы с комплéксными числами."
   ]
  },
  {
   "cell_type": "markdown",
   "metadata": {},
   "source": [
    "Следует обратить внимание на типы данных bool_ и str_. Они аналогичны bool и str из встроенных в Python, однако записывать их необходимо именно с нижним подчёркиванием, иначе произойдёт приведение к стандартному типу данных, а не типу NumPy. В целом, существенной разницы между этими типами данных нет, однако о такой двойственности следует помнить при сравнении типов переменных: тип bool не является эквивалентным numpy.bool_, несмотря на то что оба типа данных хранят значения True или False."
   ]
  },
  {
   "cell_type": "markdown",
   "metadata": {},
   "source": [
    "Примечание: в версиях NumPy 1.20 и выше появится предупреждение, если попытаться привести типы с помощью np.bool или np.str, а не np.bool_ или np.str_. Однако в более ранних версиях данное предупреждение не появляется.\n",
    "\n",
    "Пример с bool:"
   ]
  },
  {
   "cell_type": "code",
   "execution_count": null,
   "metadata": {},
   "outputs": [
    {
     "name": "stdout",
     "output_type": "stream",
     "text": [
      "<class 'bool'>\n",
      "<class 'bool'>\n",
      "<class 'numpy.bool_'>\n",
      "True\n",
      "False\n"
     ]
    },
    {
     "name": "stderr",
     "output_type": "stream",
     "text": [
      "C:\\Users\\power\\AppData\\Local\\Temp\\ipykernel_12180\\1122834797.py:4: DeprecationWarning: `np.bool` is a deprecated alias for the builtin `bool`. To silence this warning, use `bool` by itself. Doing this will not modify any behavior and is safe. If you specifically wanted the numpy scalar type, use `np.bool_` here.\n",
      "Deprecated in NumPy 1.20; for more details and guidance: https://numpy.org/devdocs/release/1.20.0-notes.html#deprecations\n",
      "  a = np.bool(a)\n",
      "C:\\Users\\power\\AppData\\Local\\Temp\\ipykernel_12180\\1122834797.py:12: DeprecationWarning: `np.bool` is a deprecated alias for the builtin `bool`. To silence this warning, use `bool` by itself. Doing this will not modify any behavior and is safe. If you specifically wanted the numpy scalar type, use `np.bool_` here.\n",
      "Deprecated in NumPy 1.20; for more details and guidance: https://numpy.org/devdocs/release/1.20.0-notes.html#deprecations\n",
      "  print(np.bool(True) == np.bool_(True))\n",
      "C:\\Users\\power\\AppData\\Local\\Temp\\ipykernel_12180\\1122834797.py:15: DeprecationWarning: `np.bool` is a deprecated alias for the builtin `bool`. To silence this warning, use `bool` by itself. Doing this will not modify any behavior and is safe. If you specifically wanted the numpy scalar type, use `np.bool_` here.\n",
      "Deprecated in NumPy 1.20; for more details and guidance: https://numpy.org/devdocs/release/1.20.0-notes.html#deprecations\n",
      "  print(type(np.bool(True)) == type(np.bool_(True)))\n"
     ]
    }
   ],
   "source": [
    "a = True\n",
    "print(type(a))\n",
    "# <class 'bool'>\n",
    "a = np.bool(a)\n",
    "print(type(a))\n",
    "# <class 'bool'>\n",
    "a = np.bool_(a)\n",
    "print(type(a))\n",
    "# <class 'numpy.bool_'>\n",
    " \n",
    "# Значения равны\n",
    "print(np.bool(True) == np.bool_(True))\n",
    "# True\n",
    "# А типы — нет:\n",
    "print(type(np.bool(True)) == type(np.bool_(True)))\n",
    "# False"
   ]
  },
  {
   "cell_type": "markdown",
   "metadata": {},
   "source": [
    "Пример со str:"
   ]
  },
  {
   "cell_type": "code",
   "execution_count": null,
   "metadata": {},
   "outputs": [
    {
     "name": "stdout",
     "output_type": "stream",
     "text": [
      "<class 'str'>\n",
      "<class 'str'>\n",
      "<class 'numpy.str_'>\n"
     ]
    },
    {
     "name": "stderr",
     "output_type": "stream",
     "text": [
      "C:\\Users\\power\\AppData\\Local\\Temp\\ipykernel_12180\\985064762.py:4: DeprecationWarning: `np.str` is a deprecated alias for the builtin `str`. To silence this warning, use `str` by itself. Doing this will not modify any behavior and is safe. If you specifically wanted the numpy scalar type, use `np.str_` here.\n",
      "Deprecated in NumPy 1.20; for more details and guidance: https://numpy.org/devdocs/release/1.20.0-notes.html#deprecations\n",
      "  a = np.str(a)\n"
     ]
    }
   ],
   "source": [
    "a = \"Hello world!\"\n",
    "print(type(a))\n",
    "# <class 'str'>\n",
    "a = np.str(a)\n",
    "print(type(a))\n",
    "# <class 'str'>\n",
    "a = np.str_(a)\n",
    "print(type(a))\n",
    "# <class 'numpy.str_'>"
   ]
  },
  {
   "cell_type": "markdown",
   "metadata": {},
   "source": [
    "Небольшое замечание про bool: несмотря на то что для хранения значения истина/ложь было бы достаточно только одного бита, из-за особенностей работы с памятью компьютера булевая переменная всё равно занимает в памяти целый байт."
   ]
  },
  {
   "cell_type": "code",
   "execution_count": null,
   "metadata": {},
   "outputs": [
    {
     "data": {
      "text/plain": [
       "56"
      ]
     },
     "execution_count": 89,
     "metadata": {},
     "output_type": "execute_result"
    }
   ],
   "source": [
    "np.int8(-456)"
   ]
  },
  {
   "cell_type": "code",
   "execution_count": null,
   "metadata": {},
   "outputs": [
    {
     "data": {
      "text/plain": [
       "array([[12, 45, 78],\n",
       "       [34, 56, 13],\n",
       "       [12, 98, 76]])"
      ]
     },
     "execution_count": 90,
     "metadata": {},
     "output_type": "execute_result"
    }
   ],
   "source": [
    "import numpy as np\n",
    "nd_arr = np.array([\n",
    "    [12, 45, 78],\n",
    "    [34, 56, 13],\n",
    "    [12, 98, 76]\n",
    "    \n",
    "])\n",
    "nd_arr"
   ]
  },
  {
   "cell_type": "code",
   "execution_count": null,
   "metadata": {},
   "outputs": [
    {
     "data": {
      "text/plain": [
       "dtype('int32')"
      ]
     },
     "execution_count": 91,
     "metadata": {},
     "output_type": "execute_result"
    }
   ],
   "source": [
    "arr = np.array([1, 5, 2, 9, 10])\n",
    "arr.dtype"
   ]
  },
  {
   "cell_type": "code",
   "execution_count": null,
   "metadata": {},
   "outputs": [
    {
     "data": {
      "text/plain": [
       "finfo(resolution=1e-15, min=-1.7976931348623157e+308, max=1.7976931348623157e+308, dtype=float64)"
      ]
     },
     "execution_count": 93,
     "metadata": {},
     "output_type": "execute_result"
    }
   ],
   "source": [
    "np.finfo(876362.12)"
   ]
  },
  {
   "cell_type": "markdown",
   "metadata": {},
   "source": [
    "СВОЙСТВА NUMPY-МАССИВОВ\n",
    "\n",
    "Вы уже узнали, как получить тип данных, который хранится в массиве. Сделать это можно с помощью атрибута dtype. Есть и другие свойства массивов, которые будет полезно узнать.\n",
    "\n",
    "Будем тренироваться на массивах arr и nd_arr:"
   ]
  },
  {
   "cell_type": "code",
   "execution_count": null,
   "metadata": {},
   "outputs": [
    {
     "data": {
      "text/plain": [
       "array([[12, 45, 78],\n",
       "       [34, 56, 13],\n",
       "       [12, 98, 76]], dtype=int16)"
      ]
     },
     "execution_count": 10,
     "metadata": {},
     "output_type": "execute_result"
    }
   ],
   "source": [
    "arr = np.array([1,5,2,9,10], dtype=np.int8)\n",
    "nd_arr = np.array([\n",
    "               [12, 45, 78],\n",
    "               [34, 56, 13],\n",
    "               [12, 98, 76]\n",
    "               ], dtype=np.int16)\n",
    "nd_arr"
   ]
  },
  {
   "cell_type": "markdown",
   "metadata": {},
   "source": [
    "Узнать размерность массива можно с помощью .ndim:"
   ]
  },
  {
   "cell_type": "code",
   "execution_count": null,
   "metadata": {},
   "outputs": [
    {
     "data": {
      "text/plain": [
       "2"
      ]
     },
     "execution_count": 95,
     "metadata": {},
     "output_type": "execute_result"
    }
   ],
   "source": [
    "arr.ndim\n",
    "# 1\n",
    "nd_arr.ndim\n",
    "# 2"
   ]
  },
  {
   "cell_type": "markdown",
   "metadata": {},
   "source": [
    "В самом деле, мы создали arr одномерным, а nd_arr — двумерным.\n",
    "\n",
    "2\n",
    "Узнать общее число элементов в массиве можно с помощью .size:"
   ]
  },
  {
   "cell_type": "code",
   "execution_count": null,
   "metadata": {},
   "outputs": [
    {
     "data": {
      "text/plain": [
       "9"
      ]
     },
     "execution_count": 96,
     "metadata": {},
     "output_type": "execute_result"
    }
   ],
   "source": [
    "arr.size\n",
    "# 5\n",
    "nd_arr.size\n",
    "# 9"
   ]
  },
  {
   "cell_type": "markdown",
   "metadata": {},
   "source": [
    "Форма или структура массива хранится в атрибуте .shape:"
   ]
  },
  {
   "cell_type": "code",
   "execution_count": null,
   "metadata": {},
   "outputs": [
    {
     "data": {
      "text/plain": [
       "(3, 3)"
      ]
     },
     "execution_count": 97,
     "metadata": {},
     "output_type": "execute_result"
    }
   ],
   "source": [
    "arr.shape\n",
    "# (5,)\n",
    "nd_arr.shape\n",
    "# (3, 3)"
   ]
  },
  {
   "cell_type": "markdown",
   "metadata": {},
   "source": [
    "Форма массива хранится в виде кортежа с числом элементов, равным размерности массива. Соответственно, для одномерного массива напечатан кортеж длины 1. Обратите внимание, что для двумерного массива вначале было напечатано число «строк», а затем число «столбцов». Это так только отчасти. На самом деле массив как бы состоит из внешних и внутренних массивов: вспомните, что мы передавали список, состоящий из четырёх списков, длина каждого из которых равнялась трём. Форма массива определяется от длины внешнего массива (3) к внутреннему (3)."
   ]
  },
  {
   "cell_type": "markdown",
   "metadata": {},
   "source": [
    "Наконец, узнать, сколько «весит» каждый элемент массива в байтах позволяет .itemsize:"
   ]
  },
  {
   "cell_type": "code",
   "execution_count": null,
   "metadata": {},
   "outputs": [
    {
     "data": {
      "text/plain": [
       "2"
      ]
     },
     "execution_count": 98,
     "metadata": {},
     "output_type": "execute_result"
    }
   ],
   "source": [
    "arr.itemsize\n",
    "# 1\n",
    "nd_arr.itemsize\n",
    "# 2"
   ]
  },
  {
   "cell_type": "markdown",
   "metadata": {},
   "source": [
    "Действительно, в arr хранятся числа в виде int8 (8 бит => 1 байт), а в nd_arr — в виде int16 (16 бит => 2 байта)."
   ]
  },
  {
   "cell_type": "markdown",
   "metadata": {},
   "source": [
    "ЗАПОЛНЕНИЕ НОВЫХ МАССИВОВ\n",
    "\n",
    "→ Не всегда значения, которые будут храниться в массиве, уже доступны, а иметь для них массив уже хочется.\n",
    "\n",
    "Можно заранее подготовить массив заданной размерности, заполненный нулями, а потом загружать в него реальные данные по мере необходимости.\n",
    "\n",
    "Массив из нулей создаётся функцией np.zeros. Она принимает аргументы shape (обязательный) — форма массива (одно число или кортеж) и dtype (необязательный) — тип данных, который будет храниться в массиве.\n",
    "\n",
    "Создадим одномерный массив из пяти элементов:"
   ]
  },
  {
   "cell_type": "code",
   "execution_count": null,
   "metadata": {},
   "outputs": [
    {
     "data": {
      "text/plain": [
       "array([0., 0., 0., 0., 0.])"
      ]
     },
     "execution_count": 99,
     "metadata": {},
     "output_type": "execute_result"
    }
   ],
   "source": [
    "zeros_1d = np.zeros(5)\n",
    "zeros_1d\n",
    "# array([0., 0., 0., 0., 0.])"
   ]
  },
  {
   "cell_type": "markdown",
   "metadata": {},
   "source": [
    "Создадим трёхмерный массив с формой 5x4x3 и типом float32:"
   ]
  },
  {
   "cell_type": "code",
   "execution_count": null,
   "metadata": {},
   "outputs": [
    {
     "name": "stdout",
     "output_type": "stream",
     "text": [
      "(5, 4, 3)\n"
     ]
    }
   ],
   "source": [
    "zeros_3d = np.zeros((5,4,3), dtype=np.float32)\n",
    "print(zeros_3d.shape)\n",
    "# (5, 4, 3)"
   ]
  },
  {
   "cell_type": "markdown",
   "metadata": {},
   "source": [
    "Ещё одной удобной функцией для создания одномерных массивов является arange. Она аналогична встроенной функции range, но обладает рядом особенностей. Вот её сигнатура: arange([start,] stop, [step,], dtype=None).\n",
    "\n",
    "Аргументы start (по умолчанию 0), step (по умолчанию 1) и dtype (определяется автоматически) являются необязательными:\n",
    "\n",
    "start (входит в диапазон возвращаемых значений) задаёт начальное число;\n",
    "stop (не входит в диапазон возвращаемых значений, как и при использовании range) задаёт правую границу диапазона;\n",
    "step задаёт шаг, с которым в массив добавляются новые значения.\n",
    "В отличие от range, в функции arange все перечисленные параметры могут иметь тип float.\n",
    "\n",
    "Поэкспериментируем. Создадим массив из пяти чисел от 0 до 4:"
   ]
  },
  {
   "cell_type": "code",
   "execution_count": null,
   "metadata": {},
   "outputs": [
    {
     "data": {
      "text/plain": [
       "array([2.5, 3. , 3.5, 4. , 4.5], dtype=float16)"
      ]
     },
     "execution_count": 101,
     "metadata": {},
     "output_type": "execute_result"
    }
   ],
   "source": [
    "np.arange(5)\n",
    "# array([0, 1, 2, 3, 4])\n",
    "#Создадим массив от 2.5 до 5:\n",
    "\n",
    "np.arange(2.5, 5)\n",
    "# array([2.5, 3.5, 4.5])\n",
    "#Создадим массив от 2.5 до 5 с шагом 0.5:\n",
    "\n",
    "np.arange(2.5, 5, 0.5)\n",
    "# array([2.5, 3. , 3.5, 4. , 4.5])\n",
    "#Создадим массив от 2.5 до 5 с шагом 0.5 и с типом float16:\n",
    "\n",
    "np.arange(2.5, 5, 0.5, dtype=np.float16)\n",
    "# array([2.5, 3. , 3.5, 4. , 4.5], dtype=float16)"
   ]
  },
  {
   "cell_type": "markdown",
   "metadata": {},
   "source": [
    "На самом деле операции с плавающей точкой не всегда бывают предсказуемыми из-за особенностей хранения таких чисел в памяти компьютера. Поэтому для работы с дробными параметрами start, stop и step лучше использовать функцию linspace (англ. linear space — линейное пространство). Она тоже возвращает одномерный массив из чисел, расположенных на равном удалении друг от друга между началом и концом диапазона, но обладает немного другим поведением и сигнатурой:\n",
    "\n",
    "np.linspace(start, stop, num=50, endpoint=True, retstep=False, dtype=None)\n",
    "\n",
    "start и stop являются обязательными параметрами, задающими начало и конец возвращаемого диапазона;\n",
    "num — параметр, задающий число элементов, которое должно оказаться в массиве (по умолчанию 50);\n",
    "endpoint — включён или исключён конец диапазона (по умолчанию включён);\n",
    "retstep (по умолчанию False) позволяет указать, возвращать ли использованный шаг между значениями, помимо самого массива;\n",
    "dtype — уже хорошо знакомый нам параметр, задающий тип данных (если не задан, определяется автоматически).\n",
    "Давайте потренируемся. Создадим массив из десяти чисел между 1 и 2:"
   ]
  },
  {
   "cell_type": "code",
   "execution_count": null,
   "metadata": {},
   "outputs": [
    {
     "data": {
      "text/plain": [
       "array([1.        , 1.21052632, 1.42105263, 1.63157895, 1.84210526,\n",
       "       2.05263158, 2.26315789, 2.47368421, 2.68421053, 2.89473684,\n",
       "       3.10526316, 3.31578947, 3.52631579, 3.73684211, 3.94736842,\n",
       "       4.15789474, 4.36842105, 4.57894737, 4.78947368, 5.        ])"
      ]
     },
     "execution_count": 103,
     "metadata": {},
     "output_type": "execute_result"
    }
   ],
   "source": [
    "arr = np.linspace(1, 5, 20)\n",
    "arr\n",
    "# array([1.        , 1.11111111, 1.22222222, 1.33333333, 1.44444444,\n",
    "#        1.55555556, 1.66666667, 1.77777778, 1.88888889, 2.        ])"
   ]
  },
  {
   "cell_type": "markdown",
   "metadata": {},
   "source": [
    "Создадим массив из десяти чисел между 1 и 2, не включая 2:"
   ]
  },
  {
   "cell_type": "code",
   "execution_count": null,
   "metadata": {},
   "outputs": [
    {
     "data": {
      "text/plain": [
       "array([1. , 1.1, 1.2, 1.3, 1.4, 1.5, 1.6, 1.7, 1.8, 1.9])"
      ]
     },
     "execution_count": 104,
     "metadata": {},
     "output_type": "execute_result"
    }
   ],
   "source": [
    "arr = np.linspace(1, 2, 10, endpoint=False)\n",
    "arr\n",
    "# array([1. , 1.1, 1.2, 1.3, 1.4, 1.5, 1.6, 1.7, 1.8, 1.9])"
   ]
  },
  {
   "cell_type": "markdown",
   "metadata": {},
   "source": [
    "Узнаем, какой шаг был использован для создания массива из десяти чисел между 1 и 2, где 2 включалось и не включалось:"
   ]
  },
  {
   "cell_type": "code",
   "execution_count": null,
   "metadata": {},
   "outputs": [
    {
     "name": "stdout",
     "output_type": "stream",
     "text": [
      "0.1111111111111111\n",
      "0.1\n"
     ]
    }
   ],
   "source": [
    "arr, step = np.linspace(1, 2, 10, endpoint=True, retstep=True)\n",
    "print(step)\n",
    "# 0.1111111111111111\n",
    "\n",
    "arr, step = np.linspace(1, 2, 10, endpoint=False, retstep=True)\n",
    "print(step)\n",
    "# 0.1"
   ]
  },
  {
   "cell_type": "markdown",
   "metadata": {},
   "source": [
    "→ Функцию linspace очень удобно использовать при построении графиков различных функций, поскольку она позволяет получить равномерный массив чисел, к которому можно применить исследуемую функцию и показать результат на графике. Вы научитесь это делать в модуле, посвящённом визуализации."
   ]
  },
  {
   "cell_type": "code",
   "execution_count": null,
   "metadata": {},
   "outputs": [
    {
     "data": {
      "text/plain": [
       "array([-6.  , -5.55, -5.1 , -4.65, -4.2 , -3.75, -3.3 , -2.85, -2.4 ,\n",
       "       -1.95, -1.5 , -1.05, -0.6 , -0.15,  0.3 ,  0.75,  1.2 ,  1.65,\n",
       "        2.1 ,  2.55,  3.  ,  3.45,  3.9 ,  4.35,  4.8 ,  5.25,  5.7 ,\n",
       "        6.15,  6.6 ,  7.05,  7.5 ,  7.95,  8.4 ,  8.85,  9.3 ,  9.75,\n",
       "       10.2 , 10.65, 11.1 , 11.55, 12.  , 12.45, 12.9 , 13.35, 13.8 ,\n",
       "       14.25, 14.7 , 15.15, 15.6 , 16.05, 16.5 , 16.95, 17.4 , 17.85,\n",
       "       18.3 , 18.75, 19.2 , 19.65, 20.1 , 20.55])"
      ]
     },
     "execution_count": 110,
     "metadata": {},
     "output_type": "execute_result"
    }
   ],
   "source": [
    "arr = np.linspace(-6, 21, 60, endpoint=False)\n",
    "arr"
   ]
  },
  {
   "cell_type": "markdown",
   "metadata": {},
   "source": [
    "СОРТИРОВКА ОДНОМЕРНЫХ МАССИВОВ\n",
    "\n",
    "Иногда возникает задача по сортировке значений в массиве. Для её решения существуют встроенная в NumPy функция sort. Она обладает дополнительными параметрами, в том числе возможностью сортировки многомерных массивов, однако пока что это нам не потребуется. Применять функцию можно двумя способами."
   ]
  },
  {
   "cell_type": "markdown",
   "metadata": {},
   "source": [
    "Способ 1. Функция np.sort(<массив>) возвращает новый отсортированный массив:"
   ]
  },
  {
   "cell_type": "code",
   "execution_count": null,
   "metadata": {},
   "outputs": [
    {
     "name": "stdout",
     "output_type": "stream",
     "text": [
      "[23 12 45 12 23  4 15  3]\n",
      "[ 3  4 12 12 15 23 23 45]\n"
     ]
    }
   ],
   "source": [
    "arr = np.array([23,12,45,12,23,4,15,3])\n",
    "arr_new = np.sort(arr)\n",
    "print(arr)\n",
    "# [23 12 45 12 23  4 15  3]\n",
    "print(arr_new)\n",
    "# [ 3  4 12 12 15 23 23 45]"
   ]
  },
  {
   "cell_type": "markdown",
   "metadata": {},
   "source": [
    "Способ 2. Функция <массив>.sort() сортирует исходный массив и возвращает None:"
   ]
  },
  {
   "cell_type": "code",
   "execution_count": null,
   "metadata": {},
   "outputs": [
    {
     "name": "stdout",
     "output_type": "stream",
     "text": [
      "None\n",
      "[ 3  4 12 12 15 23 23 45]\n"
     ]
    }
   ],
   "source": [
    "arr = np.array([23,12,45,12,23,4,15,3])\n",
    "print(arr.sort())\n",
    "# None\n",
    "print(arr)\n",
    "# [ 3  4 12 12 15 23 23 45]"
   ]
  },
  {
   "cell_type": "markdown",
   "metadata": {},
   "source": [
    "РАБОТА С ПРОПУЩЕННЫМИ ДАННЫМИ\n",
    "\n",
    "Начнём с примера — создадим массив:"
   ]
  },
  {
   "cell_type": "code",
   "execution_count": null,
   "metadata": {},
   "outputs": [
    {
     "name": "stderr",
     "output_type": "stream",
     "text": [
      "C:\\Users\\power\\AppData\\Local\\Temp\\ipykernel_10268\\12265773.py:3: RuntimeWarning: invalid value encountered in sqrt\n",
      "  roots = np.sqrt(data)\n"
     ]
    },
    {
     "data": {
      "text/plain": [
       "array([2.        , 3.        , 0.        , 1.73205081])"
      ]
     },
     "execution_count": 6,
     "metadata": {},
     "output_type": "execute_result"
    }
   ],
   "source": [
    "import numpy as np\n",
    "data = np.array([4, 9, -4, 3])\n",
    "roots = np.sqrt(data)\n",
    "roots\n",
    "roots[np.isnan(roots)] = 0\n",
    "roots\n",
    "# array([2.        , 3.        , 0.        , 1.73205081])\n"
   ]
  },
  {
   "cell_type": "markdown",
   "metadata": {},
   "source": [
    "Воспользуемся встроенной в NumPy функцией sqrt, чтобы посчитать квадратные корни из элементов."
   ]
  },
  {
   "cell_type": "code",
   "execution_count": null,
   "metadata": {},
   "outputs": [
    {
     "name": "stderr",
     "output_type": "stream",
     "text": [
      "C:\\Users\\power\\AppData\\Local\\Temp\\ipykernel_12180\\2040053643.py:1: RuntimeWarning: invalid value encountered in sqrt\n",
      "  roots = np.sqrt(data)\n"
     ]
    },
    {
     "data": {
      "text/plain": [
       "array([2.        , 3.        ,        nan, 1.73205081])"
      ]
     },
     "execution_count": 114,
     "metadata": {},
     "output_type": "execute_result"
    }
   ],
   "source": [
    "roots = np.sqrt(data)\n",
    "roots\n",
    "# RuntimeWarning: invalid value encountered in sqrt\n",
    "# array([2.        , 3.        ,        nan, 1.73205081])"
   ]
  },
  {
   "cell_type": "markdown",
   "metadata": {},
   "source": [
    "NumPy выдал предупреждение о том, что в функцию sqrt попало некорректное значение. Это было число -4, а как вы помните, корень из отрицательного числа в действительных числах не берётся. Однако программа не сломалась окончательно, а продолжила работу. На том месте, где должен был оказаться корень из -4, теперь присутствует объект nan. Он расшифровывается как Not a number (не число). Этот объект аналогичен встроенному типу None, но имеет несколько отличий:"
   ]
  },
  {
   "cell_type": "markdown",
   "metadata": {},
   "source": []
  },
  {
   "cell_type": "markdown",
   "metadata": {},
   "source": [
    "Отличие 1. None является отдельным объектом типа NoneType. np.nan — это отдельный представитель класса float:"
   ]
  },
  {
   "cell_type": "code",
   "execution_count": null,
   "metadata": {},
   "outputs": [
    {
     "name": "stdout",
     "output_type": "stream",
     "text": [
      "<class 'NoneType'>\n",
      "<class 'float'>\n"
     ]
    },
    {
     "data": {
      "text/plain": [
       "float"
      ]
     },
     "execution_count": 115,
     "metadata": {},
     "output_type": "execute_result"
    }
   ],
   "source": [
    "print(type(None))\n",
    "# <class 'NoneType'>\n",
    "print(type(np.nan))\n",
    "# <class 'float'>\n",
    "type(np.nan)"
   ]
  },
  {
   "cell_type": "markdown",
   "metadata": {},
   "source": [
    "Отличие 2. None могут быть равны друг другу, а np.nan — нет:"
   ]
  },
  {
   "cell_type": "code",
   "execution_count": null,
   "metadata": {},
   "outputs": [
    {
     "name": "stdout",
     "output_type": "stream",
     "text": [
      "True\n",
      "False\n"
     ]
    }
   ],
   "source": [
    "print(None == None)\n",
    "# True\n",
    "print(np.nan == np.nan)\n",
    "# False"
   ]
  },
  {
   "cell_type": "markdown",
   "metadata": {},
   "source": [
    "Как вы помните, чтобы грамотно сравнить что-либо с None, необходимо использовать оператор is. Это ещё более актуально для np.nan. Однако None даже через is не является эквивалентным np.nan:"
   ]
  },
  {
   "cell_type": "code",
   "execution_count": null,
   "metadata": {},
   "outputs": [
    {
     "name": "stdout",
     "output_type": "stream",
     "text": [
      "True\n",
      "True\n",
      "False\n"
     ]
    }
   ],
   "source": [
    "print(None is None)\n",
    "# True\n",
    "print(np.nan is np.nan)\n",
    "# True\n",
    "print(np.nan is None)\n",
    "# False"
   ]
  },
  {
   "cell_type": "markdown",
   "metadata": {},
   "source": [
    "Иногда работать с отсутствующими данными всё же нужно. Они могут возникнуть не только потому, что мы применили функцию к некорректному аргументу. Например, при анализе вакансий на сайте для некоторых из них может быть не указана зарплата, но при этом нам необходимо проанализировать статистику по зарплатам на сайте. Если попробовать посчитать сумму массива, который содержит np.nan, в итоге получится nan:"
   ]
  },
  {
   "cell_type": "code",
   "execution_count": null,
   "metadata": {},
   "outputs": [
    {
     "data": {
      "text/plain": [
       "nan"
      ]
     },
     "execution_count": 118,
     "metadata": {},
     "output_type": "execute_result"
    }
   ],
   "source": [
    "sum(roots)\n",
    "# nan"
   ]
  },
  {
   "cell_type": "markdown",
   "metadata": {},
   "source": [
    "Что же делать?\n",
    "\n",
    "Можно заполнить пропущенные значения, например, нулями. Для этого с помощью функции np.isnan(<массив>) узнаем, на каких местах в массиве находятся «не числа»:"
   ]
  },
  {
   "cell_type": "code",
   "execution_count": null,
   "metadata": {},
   "outputs": [
    {
     "data": {
      "text/plain": [
       "array([False, False,  True, False])"
      ]
     },
     "execution_count": 119,
     "metadata": {},
     "output_type": "execute_result"
    }
   ],
   "source": [
    "np.isnan(roots)\n",
    "# array([False, False,  True, False])"
   ]
  },
  {
   "cell_type": "markdown",
   "metadata": {},
   "source": [
    "Можно использовать полученный массив из True и False для извлечения элементов из массива roots, на месте которых в булевом массиве указано True. Таким способом можно узнать сами элементы, которые удовлетворяют условию np.isnan:"
   ]
  },
  {
   "cell_type": "code",
   "execution_count": null,
   "metadata": {},
   "outputs": [
    {
     "data": {
      "text/plain": [
       "array([nan])"
      ]
     },
     "execution_count": 120,
     "metadata": {},
     "output_type": "execute_result"
    }
   ],
   "source": [
    "roots[np.isnan(roots)]\n",
    "# array([nan])"
   ]
  },
  {
   "cell_type": "markdown",
   "metadata": {},
   "source": [
    "Этим элементам можно присвоить новые значения, например 0"
   ]
  },
  {
   "cell_type": "code",
   "execution_count": null,
   "metadata": {},
   "outputs": [
    {
     "data": {
      "text/plain": [
       "array([2.        , 3.        , 0.        , 1.73205081])"
      ]
     },
     "execution_count": 7,
     "metadata": {},
     "output_type": "execute_result"
    }
   ],
   "source": [
    "roots[np.isnan(roots)] = 0\n",
    "roots"
   ]
  },
  {
   "cell_type": "markdown",
   "metadata": {},
   "source": [
    "После этого, если пропущенных значений больше нет, можем подсчитать сумму элементов массива:"
   ]
  },
  {
   "cell_type": "code",
   "execution_count": null,
   "metadata": {},
   "outputs": [
    {
     "data": {
      "text/plain": [
       "6.732050807568877"
      ]
     },
     "execution_count": 8,
     "metadata": {},
     "output_type": "execute_result"
    }
   ],
   "source": [
    "sum(roots)"
   ]
  },
  {
   "cell_type": "markdown",
   "metadata": {},
   "source": [
    "Ранее проблема при подсчёте суммы элементов в массиве roots возникала из-за того, что отсутствовало значение для квадратного корня из -4 — вместо него было указано np.nan. Сумма элементов массива, содержащего nan, также является nan. Поэтому приходится заменить nan, например, на 0, чтобы подсчитать сумму элементов массива.\n",
    "\n",
    "✍ В данном юните вы продолжили работать с массивами NumPy. Вы научились:\n",
    "\n",
    "изменять форму массива;\n",
    " получать отдельные элементы и срезы массивов;\n",
    " сортировать элементы в массиве;\n",
    " заполнять пропущенные значения.\n",
    " Закрепите полученные данные на практике ↓"
   ]
  },
  {
   "cell_type": "code",
   "execution_count": null,
   "metadata": {},
   "outputs": [],
   "source": [
    "try:\n",
    "    from Root.src.hidden import mystery\n",
    "except ImportError:\n",
    "    from hidden import mystery\n",
    "# В переменную elem_5_3 сохраните элемент из 5 строки и 3 столбца:\n",
    "elem_5_3 = mystery[4, 2]\n",
    "# В переменную last сохраните элемент из последней строки последнего столбца\n",
    "last = mystery[-1, -1]\n",
    "# В переменную line_4 сохраните строку 4\n",
    "line_4 = mystery[3]\n",
    "# В переменную col_2 сохраните предпоследний столбец\n",
    "col_2 = mystery[:, -2]\n",
    "# Из строк 2-4 (включительно) получите столбцы 3-5 (включительно)\n",
    "# Результат сохраните в переменную part\n",
    "part = mystery[1:4, 2:5]\n",
    "#  Сохраните в переменную rev последний столбец в обратном порядке\n",
    "rev = mystery[::-1, -1]\n",
    "# Сохраните в переменную trans транспонированный массив\n",
    "trans = mystery.transpose()"
   ]
  },
  {
   "cell_type": "code",
   "execution_count": null,
   "metadata": {},
   "outputs": [
    {
     "ename": "ModuleNotFoundError",
     "evalue": "No module named 'hidden'",
     "output_type": "error",
     "traceback": [
      "\u001b[1;31m---------------------------------------------------------------------------\u001b[0m",
      "\u001b[1;31mModuleNotFoundError\u001b[0m                       Traceback (most recent call last)",
      "\u001b[1;32mc:\\Users\\power\\DS_VS_code\\.ipynb_checkpoints\\PYTNON-9.ipynb Cell 145'\u001b[0m in \u001b[0;36m<cell line: 1>\u001b[1;34m()\u001b[0m\n\u001b[0;32m      <a href='vscode-notebook-cell:/c%3A/Users/power/DS_VS_code/.ipynb_checkpoints/PYTNON-9.ipynb#ch0000213?line=0'>1</a>\u001b[0m \u001b[39mtry\u001b[39;00m:\n\u001b[1;32m----> <a href='vscode-notebook-cell:/c%3A/Users/power/DS_VS_code/.ipynb_checkpoints/PYTNON-9.ipynb#ch0000213?line=1'>2</a>\u001b[0m     \u001b[39mfrom\u001b[39;00m \u001b[39mRoot\u001b[39;00m\u001b[39m.\u001b[39;00m\u001b[39msrc\u001b[39;00m\u001b[39m.\u001b[39;00m\u001b[39mhidden\u001b[39;00m \u001b[39mimport\u001b[39;00m mystery\n\u001b[0;32m      <a href='vscode-notebook-cell:/c%3A/Users/power/DS_VS_code/.ipynb_checkpoints/PYTNON-9.ipynb#ch0000213?line=2'>3</a>\u001b[0m \u001b[39mexcept\u001b[39;00m \u001b[39mImportError\u001b[39;00m:\n",
      "\u001b[1;31mModuleNotFoundError\u001b[0m: No module named 'Root'",
      "\nDuring handling of the above exception, another exception occurred:\n",
      "\u001b[1;31mModuleNotFoundError\u001b[0m                       Traceback (most recent call last)",
      "\u001b[1;32mc:\\Users\\power\\DS_VS_code\\.ipynb_checkpoints\\PYTNON-9.ipynb Cell 145'\u001b[0m in \u001b[0;36m<cell line: 1>\u001b[1;34m()\u001b[0m\n\u001b[0;32m      <a href='vscode-notebook-cell:/c%3A/Users/power/DS_VS_code/.ipynb_checkpoints/PYTNON-9.ipynb#ch0000213?line=1'>2</a>\u001b[0m     \u001b[39mfrom\u001b[39;00m \u001b[39mRoot\u001b[39;00m\u001b[39m.\u001b[39;00m\u001b[39msrc\u001b[39;00m\u001b[39m.\u001b[39;00m\u001b[39mhidden\u001b[39;00m \u001b[39mimport\u001b[39;00m mystery\n\u001b[0;32m      <a href='vscode-notebook-cell:/c%3A/Users/power/DS_VS_code/.ipynb_checkpoints/PYTNON-9.ipynb#ch0000213?line=2'>3</a>\u001b[0m \u001b[39mexcept\u001b[39;00m \u001b[39mImportError\u001b[39;00m:\n\u001b[1;32m----> <a href='vscode-notebook-cell:/c%3A/Users/power/DS_VS_code/.ipynb_checkpoints/PYTNON-9.ipynb#ch0000213?line=3'>4</a>\u001b[0m     \u001b[39mfrom\u001b[39;00m \u001b[39mhidden\u001b[39;00m \u001b[39mimport\u001b[39;00m mystery\n\u001b[0;32m      <a href='vscode-notebook-cell:/c%3A/Users/power/DS_VS_code/.ipynb_checkpoints/PYTNON-9.ipynb#ch0000213?line=4'>5</a>\u001b[0m \u001b[39mimport\u001b[39;00m \u001b[39mnumpy\u001b[39;00m \u001b[39mas\u001b[39;00m \u001b[39mnp\u001b[39;00m\n\u001b[0;32m      <a href='vscode-notebook-cell:/c%3A/Users/power/DS_VS_code/.ipynb_checkpoints/PYTNON-9.ipynb#ch0000213?line=5'>6</a>\u001b[0m \u001b[39m# Получите булевый массив с информацией о np.nan в массиве mystery\u001b[39;00m\n\u001b[0;32m      <a href='vscode-notebook-cell:/c%3A/Users/power/DS_VS_code/.ipynb_checkpoints/PYTNON-9.ipynb#ch0000213?line=6'>7</a>\u001b[0m \u001b[39m# True - значение пропущено, False - значение не пропущено\u001b[39;00m\n",
      "\u001b[1;31mModuleNotFoundError\u001b[0m: No module named 'hidden'"
     ]
    }
   ],
   "source": [
    "try:\n",
    "    from Root.src.hidden import mystery\n",
    "except ImportError:\n",
    "    from hidden import mystery\n",
    "import numpy as np\n",
    "# Получите булевый массив с информацией о np.nan в массиве mystery\n",
    "# True - значение пропущено, False - значение не пропущено\n",
    "nans_index = np.isnan(mystery)\n",
    "# В переменную n_nan сохраните число пропущенных значений\n",
    "n_nan = sum(nans_index)\n",
    "# Заполните пропущенные значения в массиве mystery нулями\n",
    "mystery[nans_index] = 0\n",
    "# Поменяйте тип данных в массиве mystery на int32\n",
    "mystery = np.int32(mystery)\n",
    "# Отсортируйте значения в массиве по возрастанию и сохраните\n",
    "# результат в переменную array\n",
    "array = np.sort(mystery)\n",
    "# Сохраните в массив table двухмерный массив, полученный из массива array\n",
    "# В нём должно быть 5 строк и 3 столбца. Причём порядок заполнения должен быть\n",
    "# по столбцам! Например, 1, 2, 3, 4 -> 1    3\n",
    "#                                      2    4\n",
    "table = array.reshape((5,3), order='F')\n",
    "#  Сохраните в переменную col столбец 2\n",
    "col = table[:, 1]"
   ]
  },
  {
   "cell_type": "code",
   "execution_count": null,
   "metadata": {},
   "outputs": [
    {
     "name": "stdout",
     "output_type": "stream",
     "text": [
      "False\n",
      "False\n",
      "True\n"
     ]
    }
   ],
   "source": [
    "a = np.array([23, 34, 27])\n",
    "b = np.array([-54, 1,  46])\n",
    "c = np.array([46, 68, 54])\n",
    " \n",
    "len_a = np.linalg.norm(a)\n",
    "len_b = np.linalg.norm(b)\n",
    "len_c = np.linalg.norm(c)\n",
    " \n",
    "len_a_b = np.linalg.norm(a + b)\n",
    "len_b_c = np.linalg.norm(b + c)\n",
    "len_a_c = np.linalg.norm(a + c)\n",
    " \n",
    "print(len_a_b == len_a + len_b)\n",
    "# False\n",
    "print(len_b_c == len_b + len_c)\n",
    "# False\n",
    "print(len_a_c == len_a + len_c)\n",
    "# True"
   ]
  },
  {
   "cell_type": "code",
   "execution_count": null,
   "metadata": {},
   "outputs": [],
   "source": [
    "a = np.array([23, 34, 27])\n",
    "b = np.array([-54, 1,  46])\n",
    "c = np.array([46, 68, 54])\n",
    " \n",
    "len_a_b = np.linalg.norm(a - b)\n",
    "len_b_c = np.linalg.norm(b - c)\n",
    "len_a_c = np.linalg.norm(a - c)\n",
    " \n",
    "print(len_a_b)\n",
    "# 86.2902080192185\n",
    "print(len_b_c)\n",
    "# 121.19405926034493\n",
    "print(len_a_c)\n",
    "# 49.13247398615299"
   ]
  },
  {
   "cell_type": "code",
   "execution_count": null,
   "metadata": {},
   "outputs": [],
   "source": [
    "import numpy as np\n",
    "a = np.array([23, 34, 27])\n",
    "b = np.array([-54, 1,  46])\n",
    "c = np.array([46, 68, 54])\n",
    " \n",
    "dot_a_b = np.dot(a, b)\n",
    "dot_b_c = np.dot(b, c)\n",
    "dot_a_c = np.dot(a, c)\n",
    " \n",
    "print(dot_a_b)\n",
    "# 34\n",
    "print(dot_b_c)\n",
    "# 68\n",
    "print(dot_a_c)\n",
    "# 4828"
   ]
  },
  {
   "cell_type": "code",
   "execution_count": null,
   "metadata": {},
   "outputs": [],
   "source": [
    "from hidden import mystery\n",
    "import numpy as np\n",
    "print(np.mean(mystery))\n",
    "# 490.368"
   ]
  },
  {
   "cell_type": "code",
   "execution_count": null,
   "metadata": {},
   "outputs": [],
   "source": [
    "from hidden import mystery\n",
    "import numpy as np\n",
    "print(np.median(mystery))\n",
    "# 491.0"
   ]
  },
  {
   "cell_type": "code",
   "execution_count": null,
   "metadata": {},
   "outputs": [
    {
     "ename": "ModuleNotFoundError",
     "evalue": "No module named 'hidden'",
     "output_type": "error",
     "traceback": [
      "\u001b[1;31m---------------------------------------------------------------------------\u001b[0m",
      "\u001b[1;31mModuleNotFoundError\u001b[0m                       Traceback (most recent call last)",
      "\u001b[1;32mc:\\Users\\power\\DS_VS_code\\.ipynb_checkpoints\\PYTNON-9.ipynb Cell 151'\u001b[0m in \u001b[0;36m<cell line: 1>\u001b[1;34m()\u001b[0m\n\u001b[1;32m----> <a href='vscode-notebook-cell:/c%3A/Users/power/DS_VS_code/.ipynb_checkpoints/PYTNON-9.ipynb#ch0000219?line=0'>1</a>\u001b[0m \u001b[39mfrom\u001b[39;00m \u001b[39mhidden\u001b[39;00m \u001b[39mimport\u001b[39;00m mystery\n\u001b[0;32m      <a href='vscode-notebook-cell:/c%3A/Users/power/DS_VS_code/.ipynb_checkpoints/PYTNON-9.ipynb#ch0000219?line=1'>2</a>\u001b[0m \u001b[39mimport\u001b[39;00m \u001b[39mnumpy\u001b[39;00m \u001b[39mas\u001b[39;00m \u001b[39mnp\u001b[39;00m\n\u001b[0;32m      <a href='vscode-notebook-cell:/c%3A/Users/power/DS_VS_code/.ipynb_checkpoints/PYTNON-9.ipynb#ch0000219?line=2'>3</a>\u001b[0m \u001b[39mprint\u001b[39m(np\u001b[39m.\u001b[39mstd(mystery))\n",
      "\u001b[1;31mModuleNotFoundError\u001b[0m: No module named 'hidden'"
     ]
    }
   ],
   "source": [
    "from hidden import mystery\n",
    "import numpy as np\n",
    "print(np.std(mystery))\n",
    "# 289.01097656663495"
   ]
  },
  {
   "cell_type": "code",
   "execution_count": null,
   "metadata": {},
   "outputs": [
    {
     "data": {
      "text/plain": [
       "array([14. , 10. , 10.6, 15.5])"
      ]
     },
     "execution_count": 15,
     "metadata": {},
     "output_type": "execute_result"
    }
   ],
   "source": [
    "import numpy as np\n",
    "vec_1 = np.array([2, 4, 7, 2.5])\n",
    "vec_2 = np.array([12, 6, 3.6, 13])\n",
    "vec_1 +vec_2"
   ]
  },
  {
   "cell_type": "code",
   "execution_count": null,
   "metadata": {},
   "outputs": [],
   "source": [
    "vec_3 = np.arange(10)"
   ]
  },
  {
   "cell_type": "code",
   "execution_count": null,
   "metadata": {},
   "outputs": [
    {
     "data": {
      "text/plain": [
       "array([0, 1, 2, 3, 4, 5, 6, 7, 8, 9])"
      ]
     },
     "execution_count": 17,
     "metadata": {},
     "output_type": "execute_result"
    }
   ],
   "source": [
    "vec_3"
   ]
  },
  {
   "cell_type": "code",
   "execution_count": null,
   "metadata": {},
   "outputs": [
    {
     "data": {
      "text/plain": [
       "array([[0, 5],\n",
       "       [1, 6],\n",
       "       [2, 7],\n",
       "       [3, 8],\n",
       "       [4, 9]])"
      ]
     },
     "execution_count": 21,
     "metadata": {},
     "output_type": "execute_result"
    }
   ],
   "source": [
    "a = vec_3.reshape((5, 2), order='F')\n",
    "a"
   ]
  },
  {
   "cell_type": "markdown",
   "metadata": {},
   "source": [
    "СЛУЧАЙНЫЕ ЧИСЛА В NUMPY\n",
    "\n",
    "ГЕНЕРАЦИЯ FLOAT\n",
    "\n",
    "Для генерации псевдослучайных чисел в NumPy существует подмодуль random.\n",
    "\n",
    "Самой «базовой» функцией в нём можно считать функцию rand. По умолчанию она генерирует число с плавающей точкой между 0 (включительно) и 1 (не включительно):"
   ]
  },
  {
   "cell_type": "code",
   "execution_count": null,
   "metadata": {},
   "outputs": [
    {
     "data": {
      "text/plain": [
       "0.29446479472506326"
      ]
     },
     "execution_count": 1,
     "metadata": {},
     "output_type": "execute_result"
    }
   ],
   "source": [
    "import numpy as np\n",
    "np.random.rand()\n"
   ]
  },
  {
   "cell_type": "code",
   "execution_count": null,
   "metadata": {},
   "outputs": [
    {
     "data": {
      "text/plain": [
       "array([18.45445805, 27.04617653,  5.69644876, 81.99939061, 66.06048618])"
      ]
     },
     "execution_count": 2,
     "metadata": {},
     "output_type": "execute_result"
    }
   ],
   "source": [
    "np.random.rand(5) *100"
   ]
  },
  {
   "cell_type": "code",
   "execution_count": null,
   "metadata": {},
   "outputs": [
    {
     "data": {
      "text/plain": [
       "array([[0.94802032, 0.45535887, 0.70044782],\n",
       "       [0.01246037, 0.14938536, 0.66324513]])"
      ]
     },
     "execution_count": 4,
     "metadata": {},
     "output_type": "execute_result"
    }
   ],
   "source": [
    "np.random.rand(2,3)"
   ]
  },
  {
   "cell_type": "code",
   "execution_count": null,
   "metadata": {},
   "outputs": [
    {
     "data": {
      "text/plain": [
       "array([[[4.60651122e-01, 1.84588073e-01, 2.32395544e-02, 9.36371889e-01],\n",
       "        [8.70348494e-01, 7.34949527e-01, 5.79903832e-01, 9.70205790e-01],\n",
       "        [4.93490946e-02, 9.80063378e-01, 4.27821540e-01, 2.00724720e-01]],\n",
       "\n",
       "       [[2.58830860e-01, 6.48966254e-01, 7.59887747e-01, 5.49152647e-01],\n",
       "        [5.02263319e-01, 9.22726820e-01, 9.50102191e-01, 1.81116147e-01],\n",
       "        [1.70626168e-02, 8.81741388e-01, 5.12491511e-01, 7.06423348e-01]],\n",
       "\n",
       "       [[2.87182503e-01, 6.75249745e-01, 9.19881165e-01, 3.49445815e-01],\n",
       "        [3.51733593e-01, 9.64807994e-01, 9.22444413e-01, 2.96384381e-01],\n",
       "        [3.66744828e-01, 7.12561270e-02, 6.35315000e-01, 4.72944275e-01]],\n",
       "\n",
       "       [[3.26962122e-01, 5.26644959e-01, 5.12106038e-01, 4.59335885e-01],\n",
       "        [6.94363514e-01, 5.38748957e-01, 8.34775123e-01, 5.76992767e-01],\n",
       "        [9.82338383e-02, 7.81722854e-01, 1.83432642e-01, 5.62738417e-01]],\n",
       "\n",
       "       [[5.79593717e-01, 4.77704247e-01, 8.34562099e-01, 7.01999633e-01],\n",
       "        [1.93060692e-01, 1.07710791e-01, 6.18166716e-01, 5.69234946e-01],\n",
       "        [7.88446607e-01, 2.86506887e-02, 7.52243388e-01, 3.79298384e-01]],\n",
       "\n",
       "       [[4.41147729e-01, 7.11970072e-01, 2.20863229e-01, 2.99177813e-01],\n",
       "        [7.73816109e-01, 1.64749166e-01, 2.80297358e-02, 5.31262112e-01],\n",
       "        [8.94432877e-01, 2.32451717e-01, 5.77263874e-01, 3.50968865e-01]],\n",
       "\n",
       "       [[1.39062546e-01, 2.23118695e-01, 2.82204502e-01, 3.86845287e-01],\n",
       "        [6.40688118e-01, 3.05268818e-01, 3.83855745e-01, 9.78588683e-01],\n",
       "        [9.97106602e-01, 4.95918198e-01, 2.70155438e-01, 9.02316501e-01]],\n",
       "\n",
       "       [[7.76513501e-01, 5.74990402e-01, 8.49633608e-02, 9.18696857e-01],\n",
       "        [4.23443421e-01, 9.36751926e-01, 6.88955291e-01, 8.79713875e-02],\n",
       "        [3.83170360e-04, 6.31217374e-01, 4.29127848e-01, 5.85397625e-01]],\n",
       "\n",
       "       [[2.20537040e-01, 6.36482355e-01, 7.75237496e-01, 4.47235877e-01],\n",
       "        [5.36137000e-01, 6.64280067e-01, 1.43450079e-02, 8.03033938e-01],\n",
       "        [2.06146862e-01, 6.49505581e-01, 7.86259358e-01, 9.79063813e-01]],\n",
       "\n",
       "       [[4.36146251e-01, 9.68012541e-01, 4.41476749e-01, 3.47286049e-02],\n",
       "        [4.95563344e-01, 7.31167244e-01, 1.08797626e-01, 4.04717395e-01],\n",
       "        [1.46620307e-03, 5.33422822e-01, 8.12957146e-01, 4.94677001e-01]],\n",
       "\n",
       "       [[8.62543832e-01, 1.92676318e-01, 1.08090810e-01, 7.67388563e-01],\n",
       "        [6.24215547e-01, 8.14792951e-01, 5.00097022e-01, 8.20595278e-01],\n",
       "        [8.21018358e-01, 8.05439227e-01, 4.45295641e-01, 6.00050294e-02]],\n",
       "\n",
       "       [[5.93381145e-01, 2.12786653e-01, 5.21517635e-01, 3.28023373e-01],\n",
       "        [1.20754329e-01, 9.29514731e-01, 3.40086553e-01, 3.15233787e-01],\n",
       "        [2.84085792e-01, 9.09674558e-01, 5.99437169e-01, 1.26915295e-01]],\n",
       "\n",
       "       [[8.59613065e-01, 8.52152959e-01, 7.54420339e-01, 5.61666162e-01],\n",
       "        [5.05967554e-01, 6.19156409e-01, 6.78149074e-02, 9.78171233e-01],\n",
       "        [1.57278172e-01, 6.73559720e-01, 6.57530395e-01, 4.98124003e-01]],\n",
       "\n",
       "       [[3.51574073e-02, 5.63650051e-01, 5.97329859e-01, 1.29541341e-01],\n",
       "        [6.24702940e-01, 2.22314494e-02, 9.04762781e-01, 6.59939830e-01],\n",
       "        [9.39147229e-01, 1.64427549e-01, 4.78669674e-01, 1.77766421e-01]],\n",
       "\n",
       "       [[7.23701587e-02, 8.42096394e-02, 3.60347316e-01, 4.65865222e-01],\n",
       "        [9.88312936e-01, 1.38222458e-01, 8.70094604e-01, 8.84592282e-02],\n",
       "        [5.44351665e-01, 8.64601813e-01, 5.14157430e-01, 1.00182506e-01]],\n",
       "\n",
       "       [[9.07811308e-01, 1.21607783e-01, 2.56046293e-01, 4.59328955e-01],\n",
       "        [2.51536644e-01, 6.66423787e-01, 1.48700404e-02, 3.36554254e-01],\n",
       "        [7.86708482e-02, 4.37873770e-01, 7.74025813e-01, 7.60259948e-01]],\n",
       "\n",
       "       [[6.82103800e-01, 5.31511066e-02, 5.86310813e-01, 5.76009638e-02],\n",
       "        [4.20742463e-01, 5.06802395e-01, 2.78851097e-01, 3.91038624e-01],\n",
       "        [5.93372990e-01, 3.75851508e-01, 2.24365388e-01, 2.00046229e-01]],\n",
       "\n",
       "       [[4.47990977e-01, 6.42196937e-01, 8.69416804e-01, 8.05570777e-01],\n",
       "        [8.32730824e-01, 5.35202474e-01, 2.42406170e-01, 9.30963664e-01],\n",
       "        [3.17559695e-01, 4.56652950e-01, 2.19437933e-01, 1.11236324e-01]],\n",
       "\n",
       "       [[2.03415827e-01, 9.14190916e-01, 1.08142947e-01, 1.77759110e-01],\n",
       "        [3.32649873e-01, 7.40186283e-01, 9.03162342e-01, 9.49385866e-01],\n",
       "        [1.76523135e-01, 4.33796980e-01, 2.27284918e-01, 7.56905308e-01]],\n",
       "\n",
       "       [[8.68032986e-01, 2.70321444e-01, 2.97334587e-01, 6.19711490e-01],\n",
       "        [4.48705520e-01, 8.52754847e-01, 2.90963064e-01, 1.53130646e-01],\n",
       "        [5.20020713e-01, 3.97491810e-01, 2.40660235e-01, 3.57376824e-01]],\n",
       "\n",
       "       [[9.44814856e-01, 3.12212003e-01, 1.46154770e-01, 3.95429010e-01],\n",
       "        [1.02964770e-01, 3.72107896e-01, 1.04865773e-01, 3.89904895e-01],\n",
       "        [4.13432280e-01, 1.81064094e-01, 3.70832700e-02, 4.56364172e-01]]])"
      ]
     },
     "execution_count": 10,
     "metadata": {},
     "output_type": "execute_result"
    }
   ],
   "source": [
    "np.random.rand(21, 3, 4)\n"
   ]
  },
  {
   "cell_type": "code",
   "execution_count": null,
   "metadata": {},
   "outputs": [
    {
     "data": {
      "text/plain": [
       "array([[[0.17116529, 0.16881676, 0.12086921, 0.36661139, 0.65667107],\n",
       "        [0.50854881, 0.05873178, 0.65500309, 0.8677082 , 0.99040769],\n",
       "        [0.55915221, 0.23760068, 0.00606601, 0.94941357, 0.12127057],\n",
       "        [0.52577859, 0.30600084, 0.55430527, 0.21136138, 0.81581879],\n",
       "        [0.27662494, 0.52558986, 0.67233873, 0.68794011, 0.97761486]],\n",
       "\n",
       "       [[0.39271671, 0.95739086, 0.26361161, 0.6501016 , 0.61733227],\n",
       "        [0.54735793, 0.63633289, 0.18026522, 0.86830285, 0.85122078],\n",
       "        [0.31218028, 0.69731277, 0.15664736, 0.56589493, 0.2360072 ],\n",
       "        [0.82245857, 0.84382202, 0.91111889, 0.2073815 , 0.48500756],\n",
       "        [0.40899591, 0.42751354, 0.99717406, 0.28102743, 0.69793068]],\n",
       "\n",
       "       [[0.25379289, 0.46877643, 0.40341837, 0.6355484 , 0.26517184],\n",
       "        [0.25320641, 0.48546241, 0.27982764, 0.16826038, 0.07550469],\n",
       "        [0.27889516, 0.677173  , 0.11472153, 0.14691473, 0.92295032],\n",
       "        [0.63565291, 0.39339196, 0.47364527, 0.79023719, 0.03324692],\n",
       "        [0.17308522, 0.18482671, 0.24394425, 0.49294772, 0.76433725]],\n",
       "\n",
       "       [[0.38214547, 0.56515539, 0.5842183 , 0.49922269, 0.21368299],\n",
       "        [0.23404758, 0.62083341, 0.02436993, 0.35348542, 0.31918063],\n",
       "        [0.97224076, 0.89996558, 0.06683671, 0.11489377, 0.33498527],\n",
       "        [0.9565114 , 0.58083977, 0.69322348, 0.38201278, 0.51784742],\n",
       "        [0.0894227 , 0.09052844, 0.31178582, 0.34637265, 0.44100143]],\n",
       "\n",
       "       [[0.70733092, 0.64776506, 0.83082818, 0.33266333, 0.84468897],\n",
       "        [0.5575965 , 0.20382471, 0.53729926, 0.93640707, 0.20916936],\n",
       "        [0.95554889, 0.01013758, 0.68378667, 0.26908565, 0.93434798],\n",
       "        [0.23686586, 0.4002931 , 0.15823857, 0.15245189, 0.11709349],\n",
       "        [0.55410583, 0.97797393, 0.00563636, 0.76975618, 0.00417688]]])"
      ]
     },
     "execution_count": 11,
     "metadata": {},
     "output_type": "execute_result"
    }
   ],
   "source": [
    "shape = (5, 5, 5)\n",
    "np.random.rand(*shape)"
   ]
  },
  {
   "cell_type": "code",
   "execution_count": null,
   "metadata": {},
   "outputs": [
    {
     "data": {
      "text/plain": [
       "array([[[5.50139617e-01, 7.21492573e-01, 5.52343988e-01, 3.58082394e-01,\n",
       "         4.28622716e-01],\n",
       "        [5.56166645e-01, 1.35583565e-01, 1.18085036e-01, 7.93442045e-02,\n",
       "         5.51036846e-02],\n",
       "        [4.99627685e-01, 2.57489955e-01, 2.47712148e-01, 1.69608501e-01,\n",
       "         8.43779515e-01],\n",
       "        [4.21840692e-01, 3.89803569e-02, 3.70871159e-01, 4.01321842e-01,\n",
       "         9.59795652e-01],\n",
       "        [9.50662337e-01, 9.67684934e-01, 1.53087579e-01, 2.42138341e-01,\n",
       "         2.70422981e-01]],\n",
       "\n",
       "       [[1.45350833e-01, 5.12782795e-01, 2.38699291e-01, 9.41974127e-01,\n",
       "         4.73503978e-01],\n",
       "        [6.65485301e-01, 6.88998376e-01, 6.84161827e-01, 8.10897857e-01,\n",
       "         2.74220817e-01],\n",
       "        [7.87091480e-01, 3.21928851e-01, 2.28908150e-01, 1.03008185e-01,\n",
       "         8.21492973e-01],\n",
       "        [5.70480508e-01, 9.34337110e-01, 4.69043088e-01, 2.14190892e-02,\n",
       "         5.00726517e-01],\n",
       "        [6.15329218e-01, 1.38073778e-01, 8.46591612e-01, 3.85089974e-01,\n",
       "         1.50684005e-02]],\n",
       "\n",
       "       [[1.16712089e-01, 7.73462139e-01, 5.39164369e-01, 2.27192778e-01,\n",
       "         1.81142235e-01],\n",
       "        [9.24245430e-01, 1.12229188e-01, 8.62608430e-01, 1.20627002e-01,\n",
       "         5.86734917e-01],\n",
       "        [7.80180837e-01, 1.76028358e-01, 7.59187377e-01, 5.26826718e-01,\n",
       "         3.44803665e-02],\n",
       "        [3.15704163e-01, 9.13106617e-02, 6.93301870e-01, 7.91168234e-01,\n",
       "         2.64637385e-01],\n",
       "        [6.05377937e-01, 3.11919656e-02, 5.61876817e-01, 9.83625669e-01,\n",
       "         7.84038315e-01]],\n",
       "\n",
       "       [[5.07161397e-01, 6.96411692e-01, 7.82976957e-01, 9.53415510e-01,\n",
       "         6.75466780e-02],\n",
       "        [5.81422238e-01, 7.95658698e-01, 9.05772477e-01, 5.66894427e-01,\n",
       "         5.73697377e-01],\n",
       "        [7.27326350e-01, 8.53988182e-01, 3.19087033e-04, 5.17260565e-01,\n",
       "         4.36852738e-01],\n",
       "        [1.01764829e-01, 3.44925154e-01, 6.48678213e-01, 5.42781853e-01,\n",
       "         8.86795774e-02],\n",
       "        [6.79015797e-01, 8.79018303e-01, 4.06871078e-01, 4.53104223e-01,\n",
       "         2.30103469e-01]],\n",
       "\n",
       "       [[4.95377899e-01, 3.26246002e-01, 7.37068758e-01, 8.12220831e-01,\n",
       "         1.91003925e-02],\n",
       "        [7.15739910e-02, 7.72408252e-01, 2.06449678e-01, 6.30105315e-01,\n",
       "         4.14353288e-01],\n",
       "        [4.30007132e-01, 1.28062767e-01, 2.30400117e-01, 3.57200200e-01,\n",
       "         3.06398760e-01],\n",
       "        [4.20329112e-01, 7.45080536e-01, 3.40239600e-01, 3.33387316e-01,\n",
       "         7.40047014e-02],\n",
       "        [3.30653361e-01, 9.90433058e-01, 5.34365119e-01, 4.54065178e-01,\n",
       "         4.54332902e-01]]])"
      ]
     },
     "execution_count": 12,
     "metadata": {},
     "output_type": "execute_result"
    }
   ],
   "source": [
    "np.random.sample(shape)"
   ]
  },
  {
   "cell_type": "code",
   "execution_count": null,
   "metadata": {},
   "outputs": [
    {
     "data": {
      "text/plain": [
       "array([[0.47278657, 0.44544217, 0.43274136],\n",
       "       [0.46574784, 0.08446895, 0.9930399 ]])"
      ]
     },
     "execution_count": 13,
     "metadata": {},
     "output_type": "execute_result"
    }
   ],
   "source": [
    "shape = (2, 3)\n",
    "np.random.sample(shape)"
   ]
  },
  {
   "cell_type": "code",
   "execution_count": null,
   "metadata": {},
   "outputs": [
    {
     "data": {
      "text/plain": [
       "0.8512648457801266"
      ]
     },
     "execution_count": 19,
     "metadata": {},
     "output_type": "execute_result"
    }
   ],
   "source": [
    "np.random.uniform(low=0.0, high=2.0, size=None)"
   ]
  },
  {
   "cell_type": "code",
   "execution_count": null,
   "metadata": {},
   "outputs": [
    {
     "data": {
      "text/plain": [
       "array([-29.77981538,  38.21055799,  20.32806116,  15.93183457,\n",
       "       -28.99455523,  47.80795659, -10.56397821,  -2.6016381 ,\n",
       "        -7.25585143,   7.25788474])"
      ]
     },
     "execution_count": 23,
     "metadata": {},
     "output_type": "execute_result"
    }
   ],
   "source": [
    "np.random.uniform(-30, 50, size=10)"
   ]
  },
  {
   "cell_type": "code",
   "execution_count": null,
   "metadata": {},
   "outputs": [
    {
     "data": {
      "text/plain": [
       "array([[462.61503934,  15.37537274, 161.09694769],\n",
       "       [303.04885411,  91.97594663, 492.18154018]])"
      ]
     },
     "execution_count": 24,
     "metadata": {},
     "output_type": "execute_result"
    }
   ],
   "source": [
    "np.random.uniform(0.5, 500, (2,3))"
   ]
  },
  {
   "cell_type": "code",
   "execution_count": null,
   "metadata": {},
   "outputs": [],
   "source": [
    "a = np.random.randint(10, size=(10,10), dtype=np.int32)"
   ]
  },
  {
   "cell_type": "code",
   "execution_count": null,
   "metadata": {},
   "outputs": [
    {
     "name": "stdout",
     "output_type": "stream",
     "text": [
      "<class 'numpy.ndarray'>\n"
     ]
    }
   ],
   "source": [
    "print(type(a))"
   ]
  },
  {
   "cell_type": "markdown",
   "metadata": {},
   "source": [
    "ГЕНЕРАЦИЯ ВЫБОРОК\n",
    "\n",
    "→ Случайные числа можно использовать и для работы с уже существующими данными. Иногда для проверки гипотез о данных бывает удобно перемешать значения, чтобы проверить, является ли наблюдаемая закономерность случайной.\n",
    "\n",
    "→\n",
    "Просто перемешать все числа в массиве позволяет функция random.shuffle.\n",
    "\n",
    "Вспомните, во многих сервисах для прослушивания музыки есть функция shuffle для перемешивания композиций в плейлисте.\n",
    "\n",
    "Возьмём массив из целых чисел от 0 до 5 и перемешаем его:"
   ]
  },
  {
   "cell_type": "code",
   "execution_count": 131,
   "metadata": {},
   "outputs": [
    {
     "name": "stdout",
     "output_type": "stream",
     "text": [
      "[0 1 2 3 4 5]\n",
      "None\n"
     ]
    },
    {
     "data": {
      "text/plain": [
       "array([2, 3, 1, 4, 5, 0])"
      ]
     },
     "execution_count": 131,
     "metadata": {},
     "output_type": "execute_result"
    }
   ],
   "source": [
    "arr = np.arange(6)\n",
    "print(arr)\n",
    "print(np.random.shuffle(arr))\n",
    "arr"
   ]
  },
  {
   "cell_type": "markdown",
   "metadata": {},
   "source": [
    "Функция random.shuffle перемешивает тот массив, к которому применяется, и возвращает None.\n",
    "\n",
    "→\n",
    "Чтобы получить новый перемешанный массив, а исходный оставить без изменений, можно использовать функцию random.permutation. Она принимает на вход один аргумент — или массив целиком, или одно число:"
   ]
  },
  {
   "cell_type": "code",
   "execution_count": 135,
   "metadata": {},
   "outputs": [
    {
     "name": "stdout",
     "output_type": "stream",
     "text": [
      "['Ping Floyd' 'The Beatles' 'ACDC' 'Deep Purple']\n",
      "['The Beatles', 'Ping Floyd', 'ACDC', 'Deep Purple']\n"
     ]
    }
   ],
   "source": [
    "play_list = ['The Beatles', 'Ping Floyd', 'ACDC', 'Deep Purple']\n",
    "shuffled = np.random.permutation(play_list)\n",
    "print(shuffled)\n",
    "print(play_list)\n"
   ]
  },
  {
   "cell_type": "markdown",
   "metadata": {},
   "source": [
    "Обратите внимание, что необязательно передавать в функцию сразу массив: в этот раз мы передали в качестве аргумента список и ошибки не возникло. При этом на выходе получился уже NumPy-массив (это заметно по отсутствию запятых при печати массива). Сам список playlist при этом остался без изменений.\n",
    "\n",
    "Перемешать набор чисел от 0 до n-1 можно с помощью записи np.random.permutation(n), где n — верхняя граница, которая бы использовалась для генерации набора чисел функцией arange."
   ]
  },
  {
   "cell_type": "code",
   "execution_count": 136,
   "metadata": {},
   "outputs": [
    {
     "data": {
      "text/plain": [
       "array([6, 3, 7, 5, 0, 8, 4, 2, 1, 9])"
      ]
     },
     "execution_count": 136,
     "metadata": {},
     "output_type": "execute_result"
    }
   ],
   "source": [
    "np.random.permutation(10)"
   ]
  },
  {
   "cell_type": "markdown",
   "metadata": {},
   "source": [
    "Обратите внимание, что необязательно передавать в функцию сразу массив: в этот раз мы передали в качестве аргумента список и ошибки не возникло. При этом на выходе получился уже NumPy-массив (это заметно по отсутствию запятых при печати массива). Сам список playlist при этом остался без изменений.\n",
    "\n",
    "Перемешать набор чисел от 0 до n-1 можно с помощью записи np.random.permutation(n), где n — верхняя граница, которая бы использовалась для генерации набора чисел функцией arange."
   ]
  },
  {
   "cell_type": "code",
   "execution_count": 154,
   "metadata": {},
   "outputs": [
    {
     "data": {
      "text/plain": [
       "array([3, 6])"
      ]
     },
     "execution_count": 154,
     "metadata": {},
     "output_type": "execute_result"
    }
   ],
   "source": [
    "a = np.arange(10)\n",
    "choice = np.random.choice(a, size=2)\n",
    "\n",
    "choice"
   ]
  },
  {
   "cell_type": "markdown",
   "metadata": {},
   "source": [
    "choice(a, size=None, replace=True)\n",
    "a — массив или число для генерации arange(a);\n",
    "size — желаемая форма массива (число для получения одномерного массива, кортеж — для многомерного; если параметр не задан, возвращается один объект);\n",
    "replace — параметр, задающий, могут ли элементы повторяться (по умолчанию могут).\n",
    "Выберем случайным образом из списка двоих человек, которые должны будут выступить с отчётом на этой неделе. Для этого из списка имён (опять же, можно передавать в функцию choice не NumPy-массив, а список) получим два случайных объекта без повторений (логично, что нужно выбрать двух разных людей). Сделать это можно вот так:"
   ]
  },
  {
   "cell_type": "code",
   "execution_count": 169,
   "metadata": {},
   "outputs": [
    {
     "name": "stdout",
     "output_type": "stream",
     "text": [
      "['Kate' 'Maria']\n"
     ]
    }
   ],
   "source": [
    "workers = ['Ivan', 'Nikita', 'Maria', 'John', 'Kate']\n",
    "choice = np.random.choice(workers, size=2, replace=False)\n",
    "print(choice)"
   ]
  },
  {
   "cell_type": "markdown",
   "metadata": {},
   "source": [
    "На выходе получили массив из двух имён без повторений. \n",
    "\n",
    "Если попытаться получить без повторений массив большего размера, чем имеется объектов в исходном, возникнет ошибка:"
   ]
  },
  {
   "cell_type": "markdown",
   "metadata": {},
   "source": [
    "Выборка с повторениями используется по умолчанию. Она применяется в том случае, когда мы допускаем, что объекты могут повторяться.\n",
    "\n",
    "Например, получим случайную последовательность, которая образуется в результате десяти подбрасываний игральной кости:"
   ]
  },
  {
   "cell_type": "code",
   "execution_count": 171,
   "metadata": {},
   "outputs": [
    {
     "name": "stdout",
     "output_type": "stream",
     "text": [
      "[6 1 6 1 6 5 4 6 3 3 4 4 2 4 3 6 1 5 4 4 6 3 1 3 5 3 4 5 1 4]\n"
     ]
    }
   ],
   "source": [
    "choice = np.random.choice([1, 2, 3, 4, 5, 6], size=30)\n",
    "print(choice)"
   ]
  },
  {
   "cell_type": "markdown",
   "metadata": {},
   "source": [
    "В данном случае ошибка не возникает за счёт того, что объекты могут повторяться."
   ]
  },
  {
   "cell_type": "markdown",
   "metadata": {},
   "source": [
    "SEED ГЕНЕРАТОРА ПСЕВДОСЛУЧАЙНЫХ ЧИСЕЛ\n",
    "\n",
    "→ Как уже было сказано ранее, NumPy генерирует не истинные случайные числа (такие числа получаются в результате случайных процессов), а псевдослучайные, которые получаются с помощью особых преобразований какого-либо исходного числа. Обычно компьютер берёт это число автоматически, например, из текущего времени в микросекундах (на самом деле используются другие ещё менее предсказуемые числа). Такое число называют seed (от англ. — «зерно»).\n",
    "\n",
    "Иногда бывает необходимо получать одинаковые воспроизводимые последовательности случайных чисел, например чтобы проверить результаты вычислений, для которых использовались случайные числа, на предмет ошибок.\n",
    "\n",
    "Самостоятельно задать seed в NumPy можно с помощью функции np.random.seed(<np.uint32>). Число в скобках должно быть в пределах от 0 до 2**32 - 1 (=4294967295).\n",
    "\n",
    "Зададим seed и посмотрим, что получится:"
   ]
  },
  {
   "cell_type": "code",
   "execution_count": 178,
   "metadata": {},
   "outputs": [
    {
     "data": {
      "text/plain": [
       "array([[6, 1, 2, 3],\n",
       "       [3, 0, 6, 1],\n",
       "       [4, 5, 9, 2]])"
      ]
     },
     "execution_count": 178,
     "metadata": {},
     "output_type": "execute_result"
    }
   ],
   "source": [
    "np.random.seed(12)\n",
    "np.random.randint(10, size=(3, 4))"
   ]
  },
  {
   "cell_type": "code",
   "execution_count": 179,
   "metadata": {},
   "outputs": [
    {
     "name": "stdout",
     "output_type": "stream",
     "text": [
      "[8 8 3]\n",
      "[7 7 0]\n",
      "[4 2 5]\n"
     ]
    }
   ],
   "source": [
    "np.random.seed(100)\n",
    "print(np.random.randint(10, size=3))\n",
    "print(np.random.randint(10, size=3))\n",
    "print(np.random.randint(10, size=3))"
   ]
  },
  {
   "cell_type": "markdown",
   "metadata": {},
   "source": [
    "При этом запуск одной и той же функции генерации случайных чисел несколько  раз после задания seed не приводит к генерации одних и тех же чисел. Однако итоговый результат работы всегда будет одинаковый в совокупности.\n",
    "\n"
   ]
  },
  {
   "cell_type": "code",
   "execution_count": 181,
   "metadata": {},
   "outputs": [
    {
     "data": {
      "text/plain": [
       "array([1400,  652,  859,  130, 1529, 1749, 1190, 1381, 1523, 1984, 1541,\n",
       "       1750, 1774,  747, 1597,  462,  878,  -15, 1947,  632,  613, -148,\n",
       "        739,  467, 1277, 1961,  133, 1243,  656,  124,  287, 1588,  123,\n",
       "       1458, 1399,  468, -133, 1966,  338, 1853, -137, 1059, 1334,  -19,\n",
       "       1517, 1086,  244, 1089,  345,  493, 1050, 1685, 1934, 1647,  689,\n",
       "       1936,  968, 1044, 1993, 1500,  950, 2000,  788, 1569,   76,  765,\n",
       "       1695,  296,  668, 1326,  257,  615, 1663,  259,  112, 1551, 1744,\n",
       "       1502, 1060, 1608, 1693,  739,   93,  289,  663, 1359, 1987,  279,\n",
       "        653,  890, 1398,  941,  638,  323, 1288, 1782, 1532, 1223, 1478,\n",
       "        406,  931,  618, 1459, 1618,  544, 1708, 1263, 1309,  196, 1932,\n",
       "        301,  712, 1848,  951,   62,  888, 1757,   -2,  646, 1852])"
      ]
     },
     "execution_count": 181,
     "metadata": {},
     "output_type": "execute_result"
    }
   ],
   "source": [
    "np.random.randint(-150, 2021, size=120)"
   ]
  },
  {
   "cell_type": "code",
   "execution_count": 182,
   "metadata": {},
   "outputs": [
    {
     "data": {
      "text/plain": [
       "array([[83,  8],\n",
       "       [95,  3],\n",
       "       [64,  3]])"
      ]
     },
     "execution_count": 182,
     "metadata": {},
     "output_type": "execute_result"
    }
   ],
   "source": [
    "table = np.random.randint(1, 100, size=(3, 2))\n",
    "table"
   ]
  },
  {
   "cell_type": "code",
   "execution_count": 184,
   "metadata": {},
   "outputs": [
    {
     "data": {
      "text/plain": [
       "array([0.27183085])"
      ]
     },
     "execution_count": 184,
     "metadata": {},
     "output_type": "execute_result"
    }
   ],
   "source": [
    "simple = np.random.rand(1)\n",
    "simple"
   ]
  },
  {
   "cell_type": "code",
   "execution_count": 185,
   "metadata": {},
   "outputs": [
    {
     "data": {
      "text/plain": [
       "array([ 2,  4,  6,  8, 10, 12, 14, 16])"
      ]
     },
     "execution_count": 185,
     "metadata": {},
     "output_type": "execute_result"
    }
   ],
   "source": [
    "np.arange(2, 17, 2)"
   ]
  },
  {
   "cell_type": "code",
   "execution_count": 186,
   "metadata": {},
   "outputs": [],
   "source": [
    "import numpy as np\n",
    "# Не забудьте импортировать numpy и сразу задать seed 2021\n",
    "np.random.seed(2021)\n",
    "\n",
    "# В simple сохранте случайное число в диапазоне от 0 до 1\n",
    "simple = np.random.rand(1)\n",
    "\n",
    "# Сгенерируйте 120 чисел в диапазоне от -150 до 2021, сохраните их\n",
    "# в переменную randoms\n",
    "randoms = np.random.randint(-150, 2021, size=120)\n",
    "\n",
    "# Получите массив из случайных целых чисел от 1 до 100 (включительно)\n",
    "# из 3 строк и 2 столбцов. Сохраните результат в table\n",
    "table = np.random.randint(1, 100, size=(3, 2))\n",
    "\n",
    "# В переменную even сохраните четные числа от 2 до 16 (включительно)\n",
    "even = np.arange(2, 17, 2)\n",
    "\n",
    "# Перемешайте числа в even так, чтобы массив even изменился\n",
    "np.random.permutation(even)\n",
    "\n",
    "# Получите из even 3 числа без повторений. Сохраните их в переменную select\n",
    "select = np.random.choice(even, size=3)\n",
    "\n",
    "# Получите переменную triplet, которая должна содержать перемешанные\n",
    "# значения из массива select (сам select измениться не должен)\n",
    "triplet = np.random.permutation(select)"
   ]
  },
  {
   "cell_type": "code",
   "execution_count": 188,
   "metadata": {},
   "outputs": [
    {
     "data": {
      "text/plain": [
       "array([ 2, 10,  2])"
      ]
     },
     "execution_count": 188,
     "metadata": {},
     "output_type": "execute_result"
    }
   ],
   "source": [
    "triplet"
   ]
  },
  {
   "cell_type": "code",
   "execution_count": null,
   "metadata": {},
   "outputs": [],
   "source": [
    "# Не забудьте импортировать numpy и сразу задать seed 2021\n",
    "import numpy as np\n",
    "np.random.seed(2021)\n",
    "# В simple сохраните случайное число в диапазоне от 0 до 1\n",
    "simple = np.random.rand()\n",
    "# Сгенерируйте 120 чисел в диапазоне от -150 до 2021, сохраните их\n",
    "# в переменную randoms\n",
    "randoms = np.random.uniform(-150, 2021, size=120)\n",
    "# Получите массив из случайных целых чисел от 1 до 100 (включительно)\n",
    "# из 3 строк и 2 столбцов. Сохраните результат в table\n",
    "table = np.random.randint(1, 101, size=(3,2))\n",
    "# В переменную even сохраните чётные числа от 2 до 16 (включительно)\n",
    "even = np.arange(2,17,2)\n",
    "# Перемешайте числа в even так, чтобы массив even изменился\n",
    "np.random.shuffle(even)\n",
    "# Получите из even 3 числа без повторений. Сохраните их в переменную select\n",
    "select = np.random.choice(even, replace=False, size=3)\n",
    "# Получите переменную triplet, которая должна содержать перемешанные\n",
    "# значения из массива select (сам select измениться не должен)\n",
    "triplet = np.random.permutation(select)"
   ]
  },
  {
   "cell_type": "code",
   "execution_count": null,
   "metadata": {},
   "outputs": [],
   "source": [
    "import numpy as np\n",
    "print(np.int64(a) + np.int64(b))\n",
    "\n",
    "import numpy as np\n",
    "\n",
    "def get_chess(a):\n",
    "    arr = np.zeros((a, a))\n",
    "    arr[1::2, ::2] = 1\n",
    "    arr[::2, 1::2] = 1\n",
    "    return arr\n",
    "\n",
    "import numpy as np\n",
    "\n",
    "def shuffle_seed(array):\n",
    "    seed = np.random.randint(2 ** 32)\n",
    "    np.random.seed(seed)\n",
    "    result = np.random.permutation(array)\n",
    "    return result, seed\n",
    "\n",
    "\n",
    "ЗАДАНИЕ 10.8\n",
    "\n",
    "import numpy as np\n",
    "\n",
    "def min_max_dist(*vectors):\n",
    "    dists = list()\n",
    "    for i in range(len(vectors)):\n",
    "        for j in range(i + 1, len(vectors)):\n",
    "            dists.append(np.linalg.norm(vectors[i] - vectors[j]))\n",
    "    return (min(dists), max(dists))\n",
    "\n",
    "\n",
    "import numpy as np\n",
    "\n",
    "def any_normal(*vectors):\n",
    "    for i in range(len(vectors)):\n",
    "        for j in range(i + 1, len(vectors)):\n",
    "            if np.dot(vectors[i], vectors[j]) == 0:\n",
    "                return True\n",
    "    return False\n",
    "\n",
    "\n",
    "import numpy as np\n",
    "\n",
    "def get_loto(num):\n",
    "    loto = np.random.randint(1, 101, size=(num, 5, 5))\n",
    "    return loto\n",
    "\n",
    "\n",
    "import numpy as np\n",
    "\n",
    "def get_unique_loto(num):\n",
    "    sample = np.arange(1, 101)\n",
    "    res = list()\n",
    "    for i in range(num):\n",
    "        res.append(np.random.choice(sample, replace=False, size=(5, 5)))\n",
    "    res = np.array(res)\n",
    "    return res  "
   ]
  },
  {
   "cell_type": "markdown",
   "metadata": {},
   "source": [
    "✍ Вы завершили изучение модуля, посвящённого сразу двум библиотекам для Python: встроенной collections и доступной для дополнительной установки NumPy.\n",
    "\n",
    "Модуль collections позволяет упростить решение некоторых часто возникающих при разработке задач с помощью уже реализованных в нём объектов.\n",
    "NumPy используется для быстрой продвинутой работы с числами в Python. Также с помощью NumPy можно создавать массивы — упорядоченные наборы однотипных данных.\n",
    "Вы научились:\n",
    "\n",
    "использовать объекты Counter, defaultdict, deque и OrderedDict из модуля collections для подсчёта значений в списке, создания словарей с доступом к структурам данных одного типа по ключу и применения функционала очередей и стеков;\n",
    "преобразовывать числа в NumPy-типы данных с заданным объёмом выделенной памяти;\n",
    "создавать NumPy-массивы различной формы;\n",
    "совершать операции с одномерными массивами — векторами;\n",
    "генерировать наборы случайных чисел."
   ]
  },
  {
   "cell_type": "markdown",
   "metadata": {},
   "source": []
  },
  {
   "cell_type": "code",
   "execution_count": 2,
   "metadata": {},
   "outputs": [
    {
     "data": {
      "text/plain": [
       "261.5"
      ]
     },
     "execution_count": 2,
     "metadata": {},
     "output_type": "execute_result"
    }
   ],
   "source": [
    "import numpy as np\n",
    "simplelist = [19, 242, 14, 152, 142, 1000]\n",
    "a = np.mean(simplelist)\n",
    "a"
   ]
  },
  {
   "cell_type": "code",
   "execution_count": null,
   "metadata": {},
   "outputs": [],
   "source": []
  }
 ],
 "metadata": {
  "interpreter": {
   "hash": "3340a432eeb4f36e9c7c1a04148b549a77cff42ab1cce52ce0105624a78b3fec"
  },
  "kernelspec": {
   "display_name": "Python 3.9.10 64-bit",
   "language": "python",
   "name": "python3"
  },
  "language_info": {
   "codemirror_mode": {
    "name": "ipython",
    "version": 3
   },
   "file_extension": ".py",
   "mimetype": "text/x-python",
   "name": "python",
   "nbconvert_exporter": "python",
   "pygments_lexer": "ipython3",
   "version": "3.9.10"
  }
 },
 "nbformat": 4,
 "nbformat_minor": 4
}
