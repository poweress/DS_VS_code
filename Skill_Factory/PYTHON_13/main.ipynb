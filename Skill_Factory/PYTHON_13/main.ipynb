{
 "cells": [
  {
   "cell_type": "code",
   "execution_count": null,
   "metadata": {},
   "outputs": [],
   "source": []
  }
 ],
 "metadata": {
  "kernelspec": {
   "display_name": "Python 3",
   "language": "python",
   "name": "python3"
  },
  "language_info": {
   "name": "python",
   "version": "3.11.2"
  },
  "orig_nbformat": 4,
  "vscode": {
   "interpreter": {
    "hash": "2d37e34d305832383cdbee3533bc6120504560dee2262b994acd2a42ee8d966f"
   }
  }
 },
 "nbformat": 4,
 "nbformat_minor": 2
}
